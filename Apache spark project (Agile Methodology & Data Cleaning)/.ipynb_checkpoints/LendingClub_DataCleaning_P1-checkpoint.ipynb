{
 "cells": [
  {
   "cell_type": "code",
   "execution_count": 1,
   "id": "25e70c07",
   "metadata": {},
   "outputs": [],
   "source": [
    "from pyspark.sql import SparkSession\n",
    "import getpass \n",
    "username=getpass.getuser()\n",
    "spark=SparkSession. \\\n",
    "    builder. \\\n",
    "    config('spark.ui.port','0'). \\\n",
    "    config(\"spark.sql.warehouse.dir\", f\"/user/{username}/warehouse\"). \\\n",
    "    config('spark.shuffle.useOldFetchProtocol', 'true'). \\\n",
    "    enableHiveSupport(). \\\n",
    "    master('yarn'). \\\n",
    "    getOrCreate()"
   ]
  },
  {
   "cell_type": "markdown",
   "id": "7c1a27a3",
   "metadata": {},
   "source": [
    "#### 1. create a dataframe with proper datatypes "
   ]
  },
  {
   "cell_type": "code",
   "execution_count": 2,
   "id": "96b3f10c",
   "metadata": {},
   "outputs": [],
   "source": [
    "customer_schema = 'member_id string, emp_title string, emp_length string, home_ownership string, annual_inc float, addr_state string, zip_code string, country string, grade string, sub_grade string, verification_status string, tot_hi_cred_lim float, application_type string, annual_inc_joint float, verification_status_joint string'"
   ]
  },
  {
   "cell_type": "code",
   "execution_count": 3,
   "id": "4361d082",
   "metadata": {},
   "outputs": [],
   "source": [
    "customers_raw_df = spark.read \\\n",
    ".format(\"csv\") \\\n",
    ".option(\"header\",True) \\\n",
    ".schema(customer_schema) \\\n",
    ".load(\"/public/trendytech/lendingclubproject/raw/customers_data_csv\")"
   ]
  },
  {
   "cell_type": "code",
   "execution_count": 4,
   "id": "acd7bd4c",
   "metadata": {},
   "outputs": [
    {
     "data": {
      "text/html": [
       "<table border='1'>\n",
       "<tr><th>member_id</th><th>emp_title</th><th>emp_length</th><th>home_ownership</th><th>annual_inc</th><th>addr_state</th><th>zip_code</th><th>country</th><th>grade</th><th>sub_grade</th><th>verification_status</th><th>tot_hi_cred_lim</th><th>application_type</th><th>annual_inc_joint</th><th>verification_status_joint</th></tr>\n",
       "<tr><td>b59d80da191f5b573...</td><td>null</td><td>null</td><td>RENT</td><td>50000.0</td><td>OR</td><td>973xx</td><td>USA</td><td>A</td><td>A5</td><td>Source Verified</td><td>8600.0</td><td>Individual</td><td>null</td><td>null</td></tr>\n",
       "<tr><td>202d9f56ecb7c3bc9...</td><td>police officer</td><td>7 years</td><td>OWN</td><td>85000.0</td><td>TX</td><td>799xx</td><td>USA</td><td>A</td><td>A5</td><td>Source Verified</td><td>272384.0</td><td>Individual</td><td>null</td><td>null</td></tr>\n",
       "<tr><td>e5a140c0922b554b9...</td><td>community living ...</td><td>6 years</td><td>RENT</td><td>48000.0</td><td>NY</td><td>146xx</td><td>USA</td><td>B</td><td>B2</td><td>Source Verified</td><td>85092.0</td><td>Individual</td><td>null</td><td>null</td></tr>\n",
       "<tr><td>e12aefc548f750777...</td><td>Office</td><td>10+ years</td><td>OWN</td><td>33000.0</td><td>CT</td><td>067xx</td><td>USA</td><td>F</td><td>F1</td><td>Verified</td><td>7100.0</td><td>Individual</td><td>null</td><td>null</td></tr>\n",
       "<tr><td>1b3a50d854fbbf97e...</td><td>Special Tooling I...</td><td>10+ years</td><td>MORTGAGE</td><td>81000.0</td><td>TX</td><td>791xx</td><td>USA</td><td>E</td><td>E5</td><td>Verified</td><td>190274.0</td><td>Individual</td><td>null</td><td>null</td></tr>\n",
       "<tr><td>1c4329e5f17697127...</td><td>Mine ops tech 6</td><td>2 years</td><td>MORTGAGE</td><td>68000.0</td><td>AZ</td><td>855xx</td><td>USA</td><td>C</td><td>C3</td><td>Not Verified</td><td>182453.0</td><td>Individual</td><td>null</td><td>null</td></tr>\n",
       "<tr><td>5026c86ad983175eb...</td><td>caregiver</td><td>4 years</td><td>RENT</td><td>76020.0</td><td>WA</td><td>993xx</td><td>USA</td><td>C</td><td>C2</td><td>Source Verified</td><td>15308.0</td><td>Individual</td><td>null</td><td>null</td></tr>\n",
       "<tr><td>9847d8c1e9d0b2084...</td><td>null</td><td>null</td><td>OWN</td><td>65000.0</td><td>IL</td><td>624xx</td><td>USA</td><td>E</td><td>E3</td><td>Verified</td><td>128800.0</td><td>Individual</td><td>null</td><td>null</td></tr>\n",
       "<tr><td>8340dbe1adea41fb4...</td><td>Vice President Re...</td><td>8 years</td><td>MORTGAGE</td><td>111000.0</td><td>CT</td><td>063xx</td><td>USA</td><td>A</td><td>A1</td><td>Not Verified</td><td>343507.0</td><td>Individual</td><td>null</td><td>null</td></tr>\n",
       "<tr><td>d4de0de3ab7d79ad4...</td><td>FOREMAN</td><td>10+ years</td><td>MORTGAGE</td><td>67000.0</td><td>WA</td><td>992xx</td><td>USA</td><td>G</td><td>G2</td><td>Verified</td><td>211501.0</td><td>Individual</td><td>null</td><td>null</td></tr>\n",
       "<tr><td>3df3cdeddb74a8712...</td><td>Strategist</td><td>1 year</td><td>RENT</td><td>120000.0</td><td>CA</td><td>946xx</td><td>USA</td><td>A</td><td>A5</td><td>Verified</td><td>56844.0</td><td>Individual</td><td>null</td><td>null</td></tr>\n",
       "<tr><td>9dd72636b1b4045b4...</td><td>Office Manager</td><td>2 years</td><td>RENT</td><td>52000.0</td><td>FL</td><td>327xx</td><td>USA</td><td>D</td><td>D1</td><td>Source Verified</td><td>39393.0</td><td>Individual</td><td>null</td><td>null</td></tr>\n",
       "<tr><td>1d4e1ef4353b73c00...</td><td>Electrician</td><td>2 years</td><td>MORTGAGE</td><td>50000.0</td><td>IL</td><td>606xx</td><td>USA</td><td>C</td><td>C3</td><td>Not Verified</td><td>66064.0</td><td>Individual</td><td>null</td><td>null</td></tr>\n",
       "<tr><td>6f196952e71277fd4...</td><td>Finance Manager</td><td>1 year</td><td>MORTGAGE</td><td>125000.0</td><td>GA</td><td>310xx</td><td>USA</td><td>E</td><td>E2</td><td>Source Verified</td><td>555591.0</td><td>Individual</td><td>null</td><td>null</td></tr>\n",
       "<tr><td>9c617cbc6e3e3d6a1...</td><td>Nurse practitioner</td><td>5 years</td><td>MORTGAGE</td><td>165000.0</td><td>IL</td><td>610xx</td><td>USA</td><td>F</td><td>F1</td><td>Source Verified</td><td>366113.0</td><td>Individual</td><td>null</td><td>null</td></tr>\n",
       "<tr><td>45eb04dd75400a942...</td><td>equipment operator</td><td>3 years</td><td>MORTGAGE</td><td>60000.0</td><td>CT</td><td>064xx</td><td>USA</td><td>C</td><td>C4</td><td>Source Verified</td><td>198693.0</td><td>Individual</td><td>null</td><td>null</td></tr>\n",
       "<tr><td>08d233c81f9e50726...</td><td>caregiver</td><td>2 years</td><td>RENT</td><td>36000.0</td><td>MO</td><td>648xx</td><td>USA</td><td>C</td><td>C1</td><td>Source Verified</td><td>14477.0</td><td>Individual</td><td>null</td><td>null</td></tr>\n",
       "<tr><td>8ff4d0ed17a1cab92...</td><td>owner</td><td>10+ years</td><td>MORTGAGE</td><td>28000.0</td><td>CO</td><td>801xx</td><td>USA</td><td>D</td><td>D1</td><td>Verified</td><td>314400.0</td><td>Individual</td><td>null</td><td>null</td></tr>\n",
       "<tr><td>aec13cfd611b2cfea...</td><td>Community Supervi...</td><td>2 years</td><td>RENT</td><td>33000.0</td><td>GA</td><td>306xx</td><td>USA</td><td>D</td><td>D2</td><td>Source Verified</td><td>188700.0</td><td>Individual</td><td>null</td><td>null</td></tr>\n",
       "<tr><td>9ba8c96ccba6cd1f0...</td><td>Contract Specialist</td><td>5 years</td><td>MORTGAGE</td><td>74700.0</td><td>UT</td><td>844xx</td><td>USA</td><td>D</td><td>D4</td><td>Verified</td><td>614272.0</td><td>Individual</td><td>null</td><td>null</td></tr>\n",
       "</table>\n",
       "only showing top 20 rows\n"
      ],
      "text/plain": [
       "+--------------------+--------------------+----------+--------------+----------+----------+--------+-------+-----+---------+-------------------+---------------+----------------+----------------+-------------------------+\n",
       "|           member_id|           emp_title|emp_length|home_ownership|annual_inc|addr_state|zip_code|country|grade|sub_grade|verification_status|tot_hi_cred_lim|application_type|annual_inc_joint|verification_status_joint|\n",
       "+--------------------+--------------------+----------+--------------+----------+----------+--------+-------+-----+---------+-------------------+---------------+----------------+----------------+-------------------------+\n",
       "|b59d80da191f5b573...|                null|      null|          RENT|   50000.0|        OR|   973xx|    USA|    A|       A5|    Source Verified|         8600.0|      Individual|            null|                     null|\n",
       "|202d9f56ecb7c3bc9...|      police officer|   7 years|           OWN|   85000.0|        TX|   799xx|    USA|    A|       A5|    Source Verified|       272384.0|      Individual|            null|                     null|\n",
       "|e5a140c0922b554b9...|community living ...|   6 years|          RENT|   48000.0|        NY|   146xx|    USA|    B|       B2|    Source Verified|        85092.0|      Individual|            null|                     null|\n",
       "|e12aefc548f750777...|              Office| 10+ years|           OWN|   33000.0|        CT|   067xx|    USA|    F|       F1|           Verified|         7100.0|      Individual|            null|                     null|\n",
       "|1b3a50d854fbbf97e...|Special Tooling I...| 10+ years|      MORTGAGE|   81000.0|        TX|   791xx|    USA|    E|       E5|           Verified|       190274.0|      Individual|            null|                     null|\n",
       "|1c4329e5f17697127...|     Mine ops tech 6|   2 years|      MORTGAGE|   68000.0|        AZ|   855xx|    USA|    C|       C3|       Not Verified|       182453.0|      Individual|            null|                     null|\n",
       "|5026c86ad983175eb...|           caregiver|   4 years|          RENT|   76020.0|        WA|   993xx|    USA|    C|       C2|    Source Verified|        15308.0|      Individual|            null|                     null|\n",
       "|9847d8c1e9d0b2084...|                null|      null|           OWN|   65000.0|        IL|   624xx|    USA|    E|       E3|           Verified|       128800.0|      Individual|            null|                     null|\n",
       "|8340dbe1adea41fb4...|Vice President Re...|   8 years|      MORTGAGE|  111000.0|        CT|   063xx|    USA|    A|       A1|       Not Verified|       343507.0|      Individual|            null|                     null|\n",
       "|d4de0de3ab7d79ad4...|             FOREMAN| 10+ years|      MORTGAGE|   67000.0|        WA|   992xx|    USA|    G|       G2|           Verified|       211501.0|      Individual|            null|                     null|\n",
       "|3df3cdeddb74a8712...|          Strategist|    1 year|          RENT|  120000.0|        CA|   946xx|    USA|    A|       A5|           Verified|        56844.0|      Individual|            null|                     null|\n",
       "|9dd72636b1b4045b4...|      Office Manager|   2 years|          RENT|   52000.0|        FL|   327xx|    USA|    D|       D1|    Source Verified|        39393.0|      Individual|            null|                     null|\n",
       "|1d4e1ef4353b73c00...|         Electrician|   2 years|      MORTGAGE|   50000.0|        IL|   606xx|    USA|    C|       C3|       Not Verified|        66064.0|      Individual|            null|                     null|\n",
       "|6f196952e71277fd4...|     Finance Manager|    1 year|      MORTGAGE|  125000.0|        GA|   310xx|    USA|    E|       E2|    Source Verified|       555591.0|      Individual|            null|                     null|\n",
       "|9c617cbc6e3e3d6a1...|  Nurse practitioner|   5 years|      MORTGAGE|  165000.0|        IL|   610xx|    USA|    F|       F1|    Source Verified|       366113.0|      Individual|            null|                     null|\n",
       "|45eb04dd75400a942...|  equipment operator|   3 years|      MORTGAGE|   60000.0|        CT|   064xx|    USA|    C|       C4|    Source Verified|       198693.0|      Individual|            null|                     null|\n",
       "|08d233c81f9e50726...|           caregiver|   2 years|          RENT|   36000.0|        MO|   648xx|    USA|    C|       C1|    Source Verified|        14477.0|      Individual|            null|                     null|\n",
       "|8ff4d0ed17a1cab92...|               owner| 10+ years|      MORTGAGE|   28000.0|        CO|   801xx|    USA|    D|       D1|           Verified|       314400.0|      Individual|            null|                     null|\n",
       "|aec13cfd611b2cfea...|Community Supervi...|   2 years|          RENT|   33000.0|        GA|   306xx|    USA|    D|       D2|    Source Verified|       188700.0|      Individual|            null|                     null|\n",
       "|9ba8c96ccba6cd1f0...| Contract Specialist|   5 years|      MORTGAGE|   74700.0|        UT|   844xx|    USA|    D|       D4|           Verified|       614272.0|      Individual|            null|                     null|\n",
       "+--------------------+--------------------+----------+--------------+----------+----------+--------+-------+-----+---------+-------------------+---------------+----------------+----------------+-------------------------+\n",
       "only showing top 20 rows"
      ]
     },
     "execution_count": 4,
     "metadata": {},
     "output_type": "execute_result"
    }
   ],
   "source": [
    "customers_raw_df"
   ]
  },
  {
   "cell_type": "code",
   "execution_count": 5,
   "id": "b7ad41fd",
   "metadata": {},
   "outputs": [
    {
     "name": "stdout",
     "output_type": "stream",
     "text": [
      "root\n",
      " |-- member_id: string (nullable = true)\n",
      " |-- emp_title: string (nullable = true)\n",
      " |-- emp_length: string (nullable = true)\n",
      " |-- home_ownership: string (nullable = true)\n",
      " |-- annual_inc: float (nullable = true)\n",
      " |-- addr_state: string (nullable = true)\n",
      " |-- zip_code: string (nullable = true)\n",
      " |-- country: string (nullable = true)\n",
      " |-- grade: string (nullable = true)\n",
      " |-- sub_grade: string (nullable = true)\n",
      " |-- verification_status: string (nullable = true)\n",
      " |-- tot_hi_cred_lim: float (nullable = true)\n",
      " |-- application_type: string (nullable = true)\n",
      " |-- annual_inc_joint: float (nullable = true)\n",
      " |-- verification_status_joint: string (nullable = true)\n",
      "\n"
     ]
    }
   ],
   "source": [
    "customers_raw_df.printSchema()"
   ]
  },
  {
   "cell_type": "markdown",
   "id": "64b92f52",
   "metadata": {},
   "source": [
    "#### 2. Rename a few columns"
   ]
  },
  {
   "cell_type": "code",
   "execution_count": 6,
   "id": "ba51ef49",
   "metadata": {},
   "outputs": [],
   "source": [
    "customer_df_renamed = customers_raw_df.withColumnRenamed(\"annual_inc\", \"annual_income\") \\\n",
    ".withColumnRenamed(\"addr_state\", \"address_state\") \\\n",
    ".withColumnRenamed(\"zip_code\", \"address_zipcode\") \\\n",
    ".withColumnRenamed(\"country\", \"address_country\") \\\n",
    ".withColumnRenamed(\"tot_hi_credit_lim\", \"total_high_credit_limit\") \\\n",
    ".withColumnRenamed(\"annual_inc_joint\", \"join_annual_income\")"
   ]
  },
  {
   "cell_type": "code",
   "execution_count": 7,
   "id": "01ae9552",
   "metadata": {},
   "outputs": [
    {
     "data": {
      "text/html": [
       "<table border='1'>\n",
       "<tr><th>member_id</th><th>emp_title</th><th>emp_length</th><th>home_ownership</th><th>annual_income</th><th>address_state</th><th>address_zipcode</th><th>address_country</th><th>grade</th><th>sub_grade</th><th>verification_status</th><th>tot_hi_cred_lim</th><th>application_type</th><th>join_annual_income</th><th>verification_status_joint</th></tr>\n",
       "<tr><td>b59d80da191f5b573...</td><td>null</td><td>null</td><td>RENT</td><td>50000.0</td><td>OR</td><td>973xx</td><td>USA</td><td>A</td><td>A5</td><td>Source Verified</td><td>8600.0</td><td>Individual</td><td>null</td><td>null</td></tr>\n",
       "<tr><td>202d9f56ecb7c3bc9...</td><td>police officer</td><td>7 years</td><td>OWN</td><td>85000.0</td><td>TX</td><td>799xx</td><td>USA</td><td>A</td><td>A5</td><td>Source Verified</td><td>272384.0</td><td>Individual</td><td>null</td><td>null</td></tr>\n",
       "<tr><td>e5a140c0922b554b9...</td><td>community living ...</td><td>6 years</td><td>RENT</td><td>48000.0</td><td>NY</td><td>146xx</td><td>USA</td><td>B</td><td>B2</td><td>Source Verified</td><td>85092.0</td><td>Individual</td><td>null</td><td>null</td></tr>\n",
       "<tr><td>e12aefc548f750777...</td><td>Office</td><td>10+ years</td><td>OWN</td><td>33000.0</td><td>CT</td><td>067xx</td><td>USA</td><td>F</td><td>F1</td><td>Verified</td><td>7100.0</td><td>Individual</td><td>null</td><td>null</td></tr>\n",
       "<tr><td>1b3a50d854fbbf97e...</td><td>Special Tooling I...</td><td>10+ years</td><td>MORTGAGE</td><td>81000.0</td><td>TX</td><td>791xx</td><td>USA</td><td>E</td><td>E5</td><td>Verified</td><td>190274.0</td><td>Individual</td><td>null</td><td>null</td></tr>\n",
       "<tr><td>1c4329e5f17697127...</td><td>Mine ops tech 6</td><td>2 years</td><td>MORTGAGE</td><td>68000.0</td><td>AZ</td><td>855xx</td><td>USA</td><td>C</td><td>C3</td><td>Not Verified</td><td>182453.0</td><td>Individual</td><td>null</td><td>null</td></tr>\n",
       "<tr><td>5026c86ad983175eb...</td><td>caregiver</td><td>4 years</td><td>RENT</td><td>76020.0</td><td>WA</td><td>993xx</td><td>USA</td><td>C</td><td>C2</td><td>Source Verified</td><td>15308.0</td><td>Individual</td><td>null</td><td>null</td></tr>\n",
       "<tr><td>9847d8c1e9d0b2084...</td><td>null</td><td>null</td><td>OWN</td><td>65000.0</td><td>IL</td><td>624xx</td><td>USA</td><td>E</td><td>E3</td><td>Verified</td><td>128800.0</td><td>Individual</td><td>null</td><td>null</td></tr>\n",
       "<tr><td>8340dbe1adea41fb4...</td><td>Vice President Re...</td><td>8 years</td><td>MORTGAGE</td><td>111000.0</td><td>CT</td><td>063xx</td><td>USA</td><td>A</td><td>A1</td><td>Not Verified</td><td>343507.0</td><td>Individual</td><td>null</td><td>null</td></tr>\n",
       "<tr><td>d4de0de3ab7d79ad4...</td><td>FOREMAN</td><td>10+ years</td><td>MORTGAGE</td><td>67000.0</td><td>WA</td><td>992xx</td><td>USA</td><td>G</td><td>G2</td><td>Verified</td><td>211501.0</td><td>Individual</td><td>null</td><td>null</td></tr>\n",
       "<tr><td>3df3cdeddb74a8712...</td><td>Strategist</td><td>1 year</td><td>RENT</td><td>120000.0</td><td>CA</td><td>946xx</td><td>USA</td><td>A</td><td>A5</td><td>Verified</td><td>56844.0</td><td>Individual</td><td>null</td><td>null</td></tr>\n",
       "<tr><td>9dd72636b1b4045b4...</td><td>Office Manager</td><td>2 years</td><td>RENT</td><td>52000.0</td><td>FL</td><td>327xx</td><td>USA</td><td>D</td><td>D1</td><td>Source Verified</td><td>39393.0</td><td>Individual</td><td>null</td><td>null</td></tr>\n",
       "<tr><td>1d4e1ef4353b73c00...</td><td>Electrician</td><td>2 years</td><td>MORTGAGE</td><td>50000.0</td><td>IL</td><td>606xx</td><td>USA</td><td>C</td><td>C3</td><td>Not Verified</td><td>66064.0</td><td>Individual</td><td>null</td><td>null</td></tr>\n",
       "<tr><td>6f196952e71277fd4...</td><td>Finance Manager</td><td>1 year</td><td>MORTGAGE</td><td>125000.0</td><td>GA</td><td>310xx</td><td>USA</td><td>E</td><td>E2</td><td>Source Verified</td><td>555591.0</td><td>Individual</td><td>null</td><td>null</td></tr>\n",
       "<tr><td>9c617cbc6e3e3d6a1...</td><td>Nurse practitioner</td><td>5 years</td><td>MORTGAGE</td><td>165000.0</td><td>IL</td><td>610xx</td><td>USA</td><td>F</td><td>F1</td><td>Source Verified</td><td>366113.0</td><td>Individual</td><td>null</td><td>null</td></tr>\n",
       "<tr><td>45eb04dd75400a942...</td><td>equipment operator</td><td>3 years</td><td>MORTGAGE</td><td>60000.0</td><td>CT</td><td>064xx</td><td>USA</td><td>C</td><td>C4</td><td>Source Verified</td><td>198693.0</td><td>Individual</td><td>null</td><td>null</td></tr>\n",
       "<tr><td>08d233c81f9e50726...</td><td>caregiver</td><td>2 years</td><td>RENT</td><td>36000.0</td><td>MO</td><td>648xx</td><td>USA</td><td>C</td><td>C1</td><td>Source Verified</td><td>14477.0</td><td>Individual</td><td>null</td><td>null</td></tr>\n",
       "<tr><td>8ff4d0ed17a1cab92...</td><td>owner</td><td>10+ years</td><td>MORTGAGE</td><td>28000.0</td><td>CO</td><td>801xx</td><td>USA</td><td>D</td><td>D1</td><td>Verified</td><td>314400.0</td><td>Individual</td><td>null</td><td>null</td></tr>\n",
       "<tr><td>aec13cfd611b2cfea...</td><td>Community Supervi...</td><td>2 years</td><td>RENT</td><td>33000.0</td><td>GA</td><td>306xx</td><td>USA</td><td>D</td><td>D2</td><td>Source Verified</td><td>188700.0</td><td>Individual</td><td>null</td><td>null</td></tr>\n",
       "<tr><td>9ba8c96ccba6cd1f0...</td><td>Contract Specialist</td><td>5 years</td><td>MORTGAGE</td><td>74700.0</td><td>UT</td><td>844xx</td><td>USA</td><td>D</td><td>D4</td><td>Verified</td><td>614272.0</td><td>Individual</td><td>null</td><td>null</td></tr>\n",
       "</table>\n",
       "only showing top 20 rows\n"
      ],
      "text/plain": [
       "+--------------------+--------------------+----------+--------------+-------------+-------------+---------------+---------------+-----+---------+-------------------+---------------+----------------+------------------+-------------------------+\n",
       "|           member_id|           emp_title|emp_length|home_ownership|annual_income|address_state|address_zipcode|address_country|grade|sub_grade|verification_status|tot_hi_cred_lim|application_type|join_annual_income|verification_status_joint|\n",
       "+--------------------+--------------------+----------+--------------+-------------+-------------+---------------+---------------+-----+---------+-------------------+---------------+----------------+------------------+-------------------------+\n",
       "|b59d80da191f5b573...|                null|      null|          RENT|      50000.0|           OR|          973xx|            USA|    A|       A5|    Source Verified|         8600.0|      Individual|              null|                     null|\n",
       "|202d9f56ecb7c3bc9...|      police officer|   7 years|           OWN|      85000.0|           TX|          799xx|            USA|    A|       A5|    Source Verified|       272384.0|      Individual|              null|                     null|\n",
       "|e5a140c0922b554b9...|community living ...|   6 years|          RENT|      48000.0|           NY|          146xx|            USA|    B|       B2|    Source Verified|        85092.0|      Individual|              null|                     null|\n",
       "|e12aefc548f750777...|              Office| 10+ years|           OWN|      33000.0|           CT|          067xx|            USA|    F|       F1|           Verified|         7100.0|      Individual|              null|                     null|\n",
       "|1b3a50d854fbbf97e...|Special Tooling I...| 10+ years|      MORTGAGE|      81000.0|           TX|          791xx|            USA|    E|       E5|           Verified|       190274.0|      Individual|              null|                     null|\n",
       "|1c4329e5f17697127...|     Mine ops tech 6|   2 years|      MORTGAGE|      68000.0|           AZ|          855xx|            USA|    C|       C3|       Not Verified|       182453.0|      Individual|              null|                     null|\n",
       "|5026c86ad983175eb...|           caregiver|   4 years|          RENT|      76020.0|           WA|          993xx|            USA|    C|       C2|    Source Verified|        15308.0|      Individual|              null|                     null|\n",
       "|9847d8c1e9d0b2084...|                null|      null|           OWN|      65000.0|           IL|          624xx|            USA|    E|       E3|           Verified|       128800.0|      Individual|              null|                     null|\n",
       "|8340dbe1adea41fb4...|Vice President Re...|   8 years|      MORTGAGE|     111000.0|           CT|          063xx|            USA|    A|       A1|       Not Verified|       343507.0|      Individual|              null|                     null|\n",
       "|d4de0de3ab7d79ad4...|             FOREMAN| 10+ years|      MORTGAGE|      67000.0|           WA|          992xx|            USA|    G|       G2|           Verified|       211501.0|      Individual|              null|                     null|\n",
       "|3df3cdeddb74a8712...|          Strategist|    1 year|          RENT|     120000.0|           CA|          946xx|            USA|    A|       A5|           Verified|        56844.0|      Individual|              null|                     null|\n",
       "|9dd72636b1b4045b4...|      Office Manager|   2 years|          RENT|      52000.0|           FL|          327xx|            USA|    D|       D1|    Source Verified|        39393.0|      Individual|              null|                     null|\n",
       "|1d4e1ef4353b73c00...|         Electrician|   2 years|      MORTGAGE|      50000.0|           IL|          606xx|            USA|    C|       C3|       Not Verified|        66064.0|      Individual|              null|                     null|\n",
       "|6f196952e71277fd4...|     Finance Manager|    1 year|      MORTGAGE|     125000.0|           GA|          310xx|            USA|    E|       E2|    Source Verified|       555591.0|      Individual|              null|                     null|\n",
       "|9c617cbc6e3e3d6a1...|  Nurse practitioner|   5 years|      MORTGAGE|     165000.0|           IL|          610xx|            USA|    F|       F1|    Source Verified|       366113.0|      Individual|              null|                     null|\n",
       "|45eb04dd75400a942...|  equipment operator|   3 years|      MORTGAGE|      60000.0|           CT|          064xx|            USA|    C|       C4|    Source Verified|       198693.0|      Individual|              null|                     null|\n",
       "|08d233c81f9e50726...|           caregiver|   2 years|          RENT|      36000.0|           MO|          648xx|            USA|    C|       C1|    Source Verified|        14477.0|      Individual|              null|                     null|\n",
       "|8ff4d0ed17a1cab92...|               owner| 10+ years|      MORTGAGE|      28000.0|           CO|          801xx|            USA|    D|       D1|           Verified|       314400.0|      Individual|              null|                     null|\n",
       "|aec13cfd611b2cfea...|Community Supervi...|   2 years|          RENT|      33000.0|           GA|          306xx|            USA|    D|       D2|    Source Verified|       188700.0|      Individual|              null|                     null|\n",
       "|9ba8c96ccba6cd1f0...| Contract Specialist|   5 years|      MORTGAGE|      74700.0|           UT|          844xx|            USA|    D|       D4|           Verified|       614272.0|      Individual|              null|                     null|\n",
       "+--------------------+--------------------+----------+--------------+-------------+-------------+---------------+---------------+-----+---------+-------------------+---------------+----------------+------------------+-------------------------+\n",
       "only showing top 20 rows"
      ]
     },
     "execution_count": 7,
     "metadata": {},
     "output_type": "execute_result"
    }
   ],
   "source": [
    "customer_df_renamed"
   ]
  },
  {
   "cell_type": "code",
   "execution_count": 8,
   "id": "dd0342a5",
   "metadata": {},
   "outputs": [],
   "source": [
    "from pyspark.sql.functions import current_timestamp"
   ]
  },
  {
   "cell_type": "markdown",
   "id": "2daecfcb",
   "metadata": {},
   "source": [
    "#### 3. insert a new column named as ingestion date(current time)"
   ]
  },
  {
   "cell_type": "code",
   "execution_count": 9,
   "id": "1d3fe76a",
   "metadata": {},
   "outputs": [],
   "source": [
    "customers_df_ingestd = customer_df_renamed.withColumn(\"ingest_date\", current_timestamp())"
   ]
  },
  {
   "cell_type": "code",
   "execution_count": 10,
   "id": "540a82b4",
   "metadata": {},
   "outputs": [
    {
     "data": {
      "text/html": [
       "<table border='1'>\n",
       "<tr><th>member_id</th><th>emp_title</th><th>emp_length</th><th>home_ownership</th><th>annual_income</th><th>address_state</th><th>address_zipcode</th><th>address_country</th><th>grade</th><th>sub_grade</th><th>verification_status</th><th>tot_hi_cred_lim</th><th>application_type</th><th>join_annual_income</th><th>verification_status_joint</th><th>ingest_date</th></tr>\n",
       "<tr><td>b59d80da191f5b573...</td><td>null</td><td>null</td><td>RENT</td><td>50000.0</td><td>OR</td><td>973xx</td><td>USA</td><td>A</td><td>A5</td><td>Source Verified</td><td>8600.0</td><td>Individual</td><td>null</td><td>null</td><td>2024-02-11 00:13:...</td></tr>\n",
       "<tr><td>202d9f56ecb7c3bc9...</td><td>police officer</td><td>7 years</td><td>OWN</td><td>85000.0</td><td>TX</td><td>799xx</td><td>USA</td><td>A</td><td>A5</td><td>Source Verified</td><td>272384.0</td><td>Individual</td><td>null</td><td>null</td><td>2024-02-11 00:13:...</td></tr>\n",
       "<tr><td>e5a140c0922b554b9...</td><td>community living ...</td><td>6 years</td><td>RENT</td><td>48000.0</td><td>NY</td><td>146xx</td><td>USA</td><td>B</td><td>B2</td><td>Source Verified</td><td>85092.0</td><td>Individual</td><td>null</td><td>null</td><td>2024-02-11 00:13:...</td></tr>\n",
       "<tr><td>e12aefc548f750777...</td><td>Office</td><td>10+ years</td><td>OWN</td><td>33000.0</td><td>CT</td><td>067xx</td><td>USA</td><td>F</td><td>F1</td><td>Verified</td><td>7100.0</td><td>Individual</td><td>null</td><td>null</td><td>2024-02-11 00:13:...</td></tr>\n",
       "<tr><td>1b3a50d854fbbf97e...</td><td>Special Tooling I...</td><td>10+ years</td><td>MORTGAGE</td><td>81000.0</td><td>TX</td><td>791xx</td><td>USA</td><td>E</td><td>E5</td><td>Verified</td><td>190274.0</td><td>Individual</td><td>null</td><td>null</td><td>2024-02-11 00:13:...</td></tr>\n",
       "<tr><td>1c4329e5f17697127...</td><td>Mine ops tech 6</td><td>2 years</td><td>MORTGAGE</td><td>68000.0</td><td>AZ</td><td>855xx</td><td>USA</td><td>C</td><td>C3</td><td>Not Verified</td><td>182453.0</td><td>Individual</td><td>null</td><td>null</td><td>2024-02-11 00:13:...</td></tr>\n",
       "<tr><td>5026c86ad983175eb...</td><td>caregiver</td><td>4 years</td><td>RENT</td><td>76020.0</td><td>WA</td><td>993xx</td><td>USA</td><td>C</td><td>C2</td><td>Source Verified</td><td>15308.0</td><td>Individual</td><td>null</td><td>null</td><td>2024-02-11 00:13:...</td></tr>\n",
       "<tr><td>9847d8c1e9d0b2084...</td><td>null</td><td>null</td><td>OWN</td><td>65000.0</td><td>IL</td><td>624xx</td><td>USA</td><td>E</td><td>E3</td><td>Verified</td><td>128800.0</td><td>Individual</td><td>null</td><td>null</td><td>2024-02-11 00:13:...</td></tr>\n",
       "<tr><td>8340dbe1adea41fb4...</td><td>Vice President Re...</td><td>8 years</td><td>MORTGAGE</td><td>111000.0</td><td>CT</td><td>063xx</td><td>USA</td><td>A</td><td>A1</td><td>Not Verified</td><td>343507.0</td><td>Individual</td><td>null</td><td>null</td><td>2024-02-11 00:13:...</td></tr>\n",
       "<tr><td>d4de0de3ab7d79ad4...</td><td>FOREMAN</td><td>10+ years</td><td>MORTGAGE</td><td>67000.0</td><td>WA</td><td>992xx</td><td>USA</td><td>G</td><td>G2</td><td>Verified</td><td>211501.0</td><td>Individual</td><td>null</td><td>null</td><td>2024-02-11 00:13:...</td></tr>\n",
       "<tr><td>3df3cdeddb74a8712...</td><td>Strategist</td><td>1 year</td><td>RENT</td><td>120000.0</td><td>CA</td><td>946xx</td><td>USA</td><td>A</td><td>A5</td><td>Verified</td><td>56844.0</td><td>Individual</td><td>null</td><td>null</td><td>2024-02-11 00:13:...</td></tr>\n",
       "<tr><td>9dd72636b1b4045b4...</td><td>Office Manager</td><td>2 years</td><td>RENT</td><td>52000.0</td><td>FL</td><td>327xx</td><td>USA</td><td>D</td><td>D1</td><td>Source Verified</td><td>39393.0</td><td>Individual</td><td>null</td><td>null</td><td>2024-02-11 00:13:...</td></tr>\n",
       "<tr><td>1d4e1ef4353b73c00...</td><td>Electrician</td><td>2 years</td><td>MORTGAGE</td><td>50000.0</td><td>IL</td><td>606xx</td><td>USA</td><td>C</td><td>C3</td><td>Not Verified</td><td>66064.0</td><td>Individual</td><td>null</td><td>null</td><td>2024-02-11 00:13:...</td></tr>\n",
       "<tr><td>6f196952e71277fd4...</td><td>Finance Manager</td><td>1 year</td><td>MORTGAGE</td><td>125000.0</td><td>GA</td><td>310xx</td><td>USA</td><td>E</td><td>E2</td><td>Source Verified</td><td>555591.0</td><td>Individual</td><td>null</td><td>null</td><td>2024-02-11 00:13:...</td></tr>\n",
       "<tr><td>9c617cbc6e3e3d6a1...</td><td>Nurse practitioner</td><td>5 years</td><td>MORTGAGE</td><td>165000.0</td><td>IL</td><td>610xx</td><td>USA</td><td>F</td><td>F1</td><td>Source Verified</td><td>366113.0</td><td>Individual</td><td>null</td><td>null</td><td>2024-02-11 00:13:...</td></tr>\n",
       "<tr><td>45eb04dd75400a942...</td><td>equipment operator</td><td>3 years</td><td>MORTGAGE</td><td>60000.0</td><td>CT</td><td>064xx</td><td>USA</td><td>C</td><td>C4</td><td>Source Verified</td><td>198693.0</td><td>Individual</td><td>null</td><td>null</td><td>2024-02-11 00:13:...</td></tr>\n",
       "<tr><td>08d233c81f9e50726...</td><td>caregiver</td><td>2 years</td><td>RENT</td><td>36000.0</td><td>MO</td><td>648xx</td><td>USA</td><td>C</td><td>C1</td><td>Source Verified</td><td>14477.0</td><td>Individual</td><td>null</td><td>null</td><td>2024-02-11 00:13:...</td></tr>\n",
       "<tr><td>8ff4d0ed17a1cab92...</td><td>owner</td><td>10+ years</td><td>MORTGAGE</td><td>28000.0</td><td>CO</td><td>801xx</td><td>USA</td><td>D</td><td>D1</td><td>Verified</td><td>314400.0</td><td>Individual</td><td>null</td><td>null</td><td>2024-02-11 00:13:...</td></tr>\n",
       "<tr><td>aec13cfd611b2cfea...</td><td>Community Supervi...</td><td>2 years</td><td>RENT</td><td>33000.0</td><td>GA</td><td>306xx</td><td>USA</td><td>D</td><td>D2</td><td>Source Verified</td><td>188700.0</td><td>Individual</td><td>null</td><td>null</td><td>2024-02-11 00:13:...</td></tr>\n",
       "<tr><td>9ba8c96ccba6cd1f0...</td><td>Contract Specialist</td><td>5 years</td><td>MORTGAGE</td><td>74700.0</td><td>UT</td><td>844xx</td><td>USA</td><td>D</td><td>D4</td><td>Verified</td><td>614272.0</td><td>Individual</td><td>null</td><td>null</td><td>2024-02-11 00:13:...</td></tr>\n",
       "</table>\n",
       "only showing top 20 rows\n"
      ],
      "text/plain": [
       "+--------------------+--------------------+----------+--------------+-------------+-------------+---------------+---------------+-----+---------+-------------------+---------------+----------------+------------------+-------------------------+--------------------+\n",
       "|           member_id|           emp_title|emp_length|home_ownership|annual_income|address_state|address_zipcode|address_country|grade|sub_grade|verification_status|tot_hi_cred_lim|application_type|join_annual_income|verification_status_joint|         ingest_date|\n",
       "+--------------------+--------------------+----------+--------------+-------------+-------------+---------------+---------------+-----+---------+-------------------+---------------+----------------+------------------+-------------------------+--------------------+\n",
       "|b59d80da191f5b573...|                null|      null|          RENT|      50000.0|           OR|          973xx|            USA|    A|       A5|    Source Verified|         8600.0|      Individual|              null|                     null|2024-02-11 00:13:...|\n",
       "|202d9f56ecb7c3bc9...|      police officer|   7 years|           OWN|      85000.0|           TX|          799xx|            USA|    A|       A5|    Source Verified|       272384.0|      Individual|              null|                     null|2024-02-11 00:13:...|\n",
       "|e5a140c0922b554b9...|community living ...|   6 years|          RENT|      48000.0|           NY|          146xx|            USA|    B|       B2|    Source Verified|        85092.0|      Individual|              null|                     null|2024-02-11 00:13:...|\n",
       "|e12aefc548f750777...|              Office| 10+ years|           OWN|      33000.0|           CT|          067xx|            USA|    F|       F1|           Verified|         7100.0|      Individual|              null|                     null|2024-02-11 00:13:...|\n",
       "|1b3a50d854fbbf97e...|Special Tooling I...| 10+ years|      MORTGAGE|      81000.0|           TX|          791xx|            USA|    E|       E5|           Verified|       190274.0|      Individual|              null|                     null|2024-02-11 00:13:...|\n",
       "|1c4329e5f17697127...|     Mine ops tech 6|   2 years|      MORTGAGE|      68000.0|           AZ|          855xx|            USA|    C|       C3|       Not Verified|       182453.0|      Individual|              null|                     null|2024-02-11 00:13:...|\n",
       "|5026c86ad983175eb...|           caregiver|   4 years|          RENT|      76020.0|           WA|          993xx|            USA|    C|       C2|    Source Verified|        15308.0|      Individual|              null|                     null|2024-02-11 00:13:...|\n",
       "|9847d8c1e9d0b2084...|                null|      null|           OWN|      65000.0|           IL|          624xx|            USA|    E|       E3|           Verified|       128800.0|      Individual|              null|                     null|2024-02-11 00:13:...|\n",
       "|8340dbe1adea41fb4...|Vice President Re...|   8 years|      MORTGAGE|     111000.0|           CT|          063xx|            USA|    A|       A1|       Not Verified|       343507.0|      Individual|              null|                     null|2024-02-11 00:13:...|\n",
       "|d4de0de3ab7d79ad4...|             FOREMAN| 10+ years|      MORTGAGE|      67000.0|           WA|          992xx|            USA|    G|       G2|           Verified|       211501.0|      Individual|              null|                     null|2024-02-11 00:13:...|\n",
       "|3df3cdeddb74a8712...|          Strategist|    1 year|          RENT|     120000.0|           CA|          946xx|            USA|    A|       A5|           Verified|        56844.0|      Individual|              null|                     null|2024-02-11 00:13:...|\n",
       "|9dd72636b1b4045b4...|      Office Manager|   2 years|          RENT|      52000.0|           FL|          327xx|            USA|    D|       D1|    Source Verified|        39393.0|      Individual|              null|                     null|2024-02-11 00:13:...|\n",
       "|1d4e1ef4353b73c00...|         Electrician|   2 years|      MORTGAGE|      50000.0|           IL|          606xx|            USA|    C|       C3|       Not Verified|        66064.0|      Individual|              null|                     null|2024-02-11 00:13:...|\n",
       "|6f196952e71277fd4...|     Finance Manager|    1 year|      MORTGAGE|     125000.0|           GA|          310xx|            USA|    E|       E2|    Source Verified|       555591.0|      Individual|              null|                     null|2024-02-11 00:13:...|\n",
       "|9c617cbc6e3e3d6a1...|  Nurse practitioner|   5 years|      MORTGAGE|     165000.0|           IL|          610xx|            USA|    F|       F1|    Source Verified|       366113.0|      Individual|              null|                     null|2024-02-11 00:13:...|\n",
       "|45eb04dd75400a942...|  equipment operator|   3 years|      MORTGAGE|      60000.0|           CT|          064xx|            USA|    C|       C4|    Source Verified|       198693.0|      Individual|              null|                     null|2024-02-11 00:13:...|\n",
       "|08d233c81f9e50726...|           caregiver|   2 years|          RENT|      36000.0|           MO|          648xx|            USA|    C|       C1|    Source Verified|        14477.0|      Individual|              null|                     null|2024-02-11 00:13:...|\n",
       "|8ff4d0ed17a1cab92...|               owner| 10+ years|      MORTGAGE|      28000.0|           CO|          801xx|            USA|    D|       D1|           Verified|       314400.0|      Individual|              null|                     null|2024-02-11 00:13:...|\n",
       "|aec13cfd611b2cfea...|Community Supervi...|   2 years|          RENT|      33000.0|           GA|          306xx|            USA|    D|       D2|    Source Verified|       188700.0|      Individual|              null|                     null|2024-02-11 00:13:...|\n",
       "|9ba8c96ccba6cd1f0...| Contract Specialist|   5 years|      MORTGAGE|      74700.0|           UT|          844xx|            USA|    D|       D4|           Verified|       614272.0|      Individual|              null|                     null|2024-02-11 00:13:...|\n",
       "+--------------------+--------------------+----------+--------------+-------------+-------------+---------------+---------------+-----+---------+-------------------+---------------+----------------+------------------+-------------------------+--------------------+\n",
       "only showing top 20 rows"
      ]
     },
     "execution_count": 10,
     "metadata": {},
     "output_type": "execute_result"
    }
   ],
   "source": [
    "customers_df_ingestd"
   ]
  },
  {
   "cell_type": "markdown",
   "id": "d198d4b0",
   "metadata": {},
   "source": [
    "#### 4. Remove complete duplicate rows"
   ]
  },
  {
   "cell_type": "code",
   "execution_count": 11,
   "id": "4d62b1f7",
   "metadata": {},
   "outputs": [
    {
     "data": {
      "text/plain": [
       "2260701"
      ]
     },
     "execution_count": 11,
     "metadata": {},
     "output_type": "execute_result"
    }
   ],
   "source": [
    "customers_df_ingestd.count()"
   ]
  },
  {
   "cell_type": "code",
   "execution_count": 12,
   "id": "50e6577b",
   "metadata": {},
   "outputs": [],
   "source": [
    "customers_distinct = customers_df_ingestd.distinct()"
   ]
  },
  {
   "cell_type": "code",
   "execution_count": 13,
   "id": "56652103",
   "metadata": {},
   "outputs": [
    {
     "data": {
      "text/plain": [
       "2260638"
      ]
     },
     "execution_count": 13,
     "metadata": {},
     "output_type": "execute_result"
    }
   ],
   "source": [
    "customers_distinct.count()"
   ]
  },
  {
   "cell_type": "code",
   "execution_count": 14,
   "id": "8a88208f",
   "metadata": {},
   "outputs": [],
   "source": [
    "customers_distinct.createOrReplaceTempView(\"customers\")"
   ]
  },
  {
   "cell_type": "code",
   "execution_count": 15,
   "id": "3badc92c",
   "metadata": {},
   "outputs": [
    {
     "data": {
      "text/html": [
       "<table border='1'>\n",
       "<tr><th>member_id</th><th>emp_title</th><th>emp_length</th><th>home_ownership</th><th>annual_income</th><th>address_state</th><th>address_zipcode</th><th>address_country</th><th>grade</th><th>sub_grade</th><th>verification_status</th><th>tot_hi_cred_lim</th><th>application_type</th><th>join_annual_income</th><th>verification_status_joint</th><th>ingest_date</th></tr>\n",
       "<tr><td>d0171cf38c58c37cd...</td><td>JL transport</td><td>&lt; 1 year</td><td>RENT</td><td>33600.0</td><td>CA</td><td>921xx</td><td>USA</td><td>B</td><td>B2</td><td>Not Verified</td><td>null</td><td>Individual</td><td>null</td><td>null</td><td>2024-02-11 00:14:...</td></tr>\n",
       "<tr><td>20943584b28ed9af5...</td><td>CLEVELAND REGIONA...</td><td>10+ years</td><td>MORTGAGE</td><td>58000.0</td><td>OH</td><td>441xx</td><td>USA</td><td>A</td><td>A1</td><td>Not Verified</td><td>null</td><td>Individual</td><td>null</td><td>null</td><td>2024-02-11 00:14:...</td></tr>\n",
       "<tr><td>df67ac77e6b65dd4b...</td><td>JSTOR/Ithaka</td><td>1 year</td><td>RENT</td><td>45000.0</td><td>NY</td><td>100xx</td><td>USA</td><td>C</td><td>C1</td><td>Source Verified</td><td>null</td><td>Individual</td><td>null</td><td>null</td><td>2024-02-11 00:14:...</td></tr>\n",
       "<tr><td>5a9213685bdb032c8...</td><td>Howe Wood Products</td><td>8 years</td><td>MORTGAGE</td><td>57000.0</td><td>PA</td><td>174xx</td><td>USA</td><td>A</td><td>A2</td><td>Not Verified</td><td>null</td><td>Individual</td><td>null</td><td>null</td><td>2024-02-11 00:14:...</td></tr>\n",
       "<tr><td>107b062a4631d7a58...</td><td>Rich&#x27;s</td><td>5 years</td><td>OWN</td><td>20000.0</td><td>MO</td><td>631xx</td><td>USA</td><td>B</td><td>B5</td><td>Not Verified</td><td>null</td><td>Individual</td><td>null</td><td>null</td><td>2024-02-11 00:14:...</td></tr>\n",
       "<tr><td>70d7bf8aec58ef52e...</td><td>Chevron phillips</td><td>10+ years</td><td>RENT</td><td>85000.0</td><td>TX</td><td>790xx</td><td>USA</td><td>B</td><td>B5</td><td>Source Verified</td><td>null</td><td>Individual</td><td>null</td><td>null</td><td>2024-02-11 00:14:...</td></tr>\n",
       "<tr><td>ce0f8bc1db222c878...</td><td>The Buffalo Group</td><td>&lt; 1 year</td><td>MORTGAGE</td><td>120000.0</td><td>PA</td><td>170xx</td><td>USA</td><td>E</td><td>E5</td><td>Verified</td><td>null</td><td>Individual</td><td>null</td><td>null</td><td>2024-02-11 00:14:...</td></tr>\n",
       "<tr><td>bfe20161a22d9aafb...</td><td>25 years</td><td>10+ years</td><td>MORTGAGE</td><td>56000.0</td><td>AZ</td><td>853xx</td><td>USA</td><td>D</td><td>D5</td><td>Verified</td><td>null</td><td>Individual</td><td>null</td><td>null</td><td>2024-02-11 00:14:...</td></tr>\n",
       "<tr><td>669eb4a3ca55ba2a3...</td><td>ST JOSEPH&#x27;S MEDIC...</td><td>10+ years</td><td>RENT</td><td>38000.0</td><td>NY</td><td>104xx</td><td>USA</td><td>C</td><td>C5</td><td>Not Verified</td><td>null</td><td>Individual</td><td>null</td><td>null</td><td>2024-02-11 00:14:...</td></tr>\n",
       "<tr><td>ee7935d00acfda580...</td><td>State of CA Dept....</td><td>10+ years</td><td>RENT</td><td>77592.0</td><td>CA</td><td>917xx</td><td>USA</td><td>D</td><td>D3</td><td>Source Verified</td><td>null</td><td>Individual</td><td>null</td><td>null</td><td>2024-02-11 00:14:...</td></tr>\n",
       "<tr><td>e3a8b3e83b4598bdd...</td><td>Campbell and Wall...</td><td>2 years</td><td>MORTGAGE</td><td>150000.0</td><td>OH</td><td>451xx</td><td>USA</td><td>E</td><td>E4</td><td>Source Verified</td><td>null</td><td>Individual</td><td>null</td><td>null</td><td>2024-02-11 00:14:...</td></tr>\n",
       "<tr><td>7a7c8568fea728844...</td><td>Tishman Construct...</td><td>10+ years</td><td>MORTGAGE</td><td>62000.0</td><td>NY</td><td>104xx</td><td>USA</td><td>B</td><td>B5</td><td>Verified</td><td>null</td><td>Individual</td><td>null</td><td>null</td><td>2024-02-11 00:14:...</td></tr>\n",
       "<tr><td>909cda73d05b71f28...</td><td>ESRI</td><td>1 year</td><td>RENT</td><td>80000.0</td><td>CA</td><td>923xx</td><td>USA</td><td>B</td><td>B5</td><td>Not Verified</td><td>null</td><td>Individual</td><td>null</td><td>null</td><td>2024-02-11 00:14:...</td></tr>\n",
       "<tr><td>13f0e83565e1017c0...</td><td>UC San Diego</td><td>7 years</td><td>RENT</td><td>40000.0</td><td>CA</td><td>921xx</td><td>USA</td><td>A</td><td>A1</td><td>Not Verified</td><td>null</td><td>Individual</td><td>null</td><td>null</td><td>2024-02-11 00:14:...</td></tr>\n",
       "<tr><td>817ff866b54d2f4be...</td><td>Ardent Services</td><td>4 years</td><td>RENT</td><td>48000.0</td><td>LA</td><td>701xx</td><td>USA</td><td>B</td><td>B5</td><td>Not Verified</td><td>null</td><td>Individual</td><td>null</td><td>null</td><td>2024-02-11 00:14:...</td></tr>\n",
       "<tr><td>781b886b620bc65da...</td><td>Tender Lawn Care</td><td>2 years</td><td>MORTGAGE</td><td>75000.0</td><td>GA</td><td>305xx</td><td>USA</td><td>A</td><td>A1</td><td>Not Verified</td><td>null</td><td>Individual</td><td>null</td><td>null</td><td>2024-02-11 00:14:...</td></tr>\n",
       "<tr><td>c1a295469aaa4303d...</td><td>Edean</td><td>5 years</td><td>RENT</td><td>26000.0</td><td>VA</td><td>222xx</td><td>USA</td><td>B</td><td>B4</td><td>Source Verified</td><td>null</td><td>Individual</td><td>null</td><td>null</td><td>2024-02-11 00:14:...</td></tr>\n",
       "<tr><td>c6b2aa581f762a5a5...</td><td>Forty-Niner Shops...</td><td>8 years</td><td>OWN</td><td>65000.0</td><td>CA</td><td>908xx</td><td>USA</td><td>B</td><td>B3</td><td>Verified</td><td>null</td><td>Individual</td><td>null</td><td>null</td><td>2024-02-11 00:14:...</td></tr>\n",
       "<tr><td>7751336d9fe5c8492...</td><td>Target</td><td>4 years</td><td>MORTGAGE</td><td>60000.0</td><td>NC</td><td>271xx</td><td>USA</td><td>A</td><td>A1</td><td>Not Verified</td><td>null</td><td>Individual</td><td>null</td><td>null</td><td>2024-02-11 00:14:...</td></tr>\n",
       "<tr><td>e06636eca66b39e94...</td><td>City of Pullman</td><td>4 years</td><td>RENT</td><td>27000.0</td><td>WA</td><td>991xx</td><td>USA</td><td>B</td><td>B1</td><td>Not Verified</td><td>null</td><td>Individual</td><td>null</td><td>null</td><td>2024-02-11 00:14:...</td></tr>\n",
       "</table>\n",
       "only showing top 20 rows\n"
      ],
      "text/plain": [
       "+--------------------+--------------------+----------+--------------+-------------+-------------+---------------+---------------+-----+---------+-------------------+---------------+----------------+------------------+-------------------------+--------------------+\n",
       "|           member_id|           emp_title|emp_length|home_ownership|annual_income|address_state|address_zipcode|address_country|grade|sub_grade|verification_status|tot_hi_cred_lim|application_type|join_annual_income|verification_status_joint|         ingest_date|\n",
       "+--------------------+--------------------+----------+--------------+-------------+-------------+---------------+---------------+-----+---------+-------------------+---------------+----------------+------------------+-------------------------+--------------------+\n",
       "|02484234f15717b40...|                null|      null|           OWN|      15372.0|           TX|          770xx|            USA|    C|       C3|           Verified|        15800.0|      Individual|              null|                     null|2024-02-11 00:14:...|\n",
       "|dae5dc40066105a53...|              tech 2|   3 years|          RENT|      50000.0|           MD|          210xx|            USA|    C|       C4|       Not Verified|        35455.0|      Individual|              null|                     null|2024-02-11 00:14:...|\n",
       "|3b075f997a4716817...|Director of Clini...| 10+ years|          RENT|     190000.0|           VA|          220xx|            USA|    D|       D2|           Verified|        37554.0|      Individual|              null|                     null|2024-02-11 00:14:...|\n",
       "|73ec73edab2173aed...| School Psychologist| 10+ years|      MORTGAGE|      92000.0|           MI|          481xx|            USA|    E|       E1|    Source Verified|       279565.0|      Individual|              null|                     null|2024-02-11 00:14:...|\n",
       "|fe2a88be248f61db0...|            Engineer|  < 1 year|           OWN|      84000.0|           NC|          276xx|            USA|    B|       B5|    Source Verified|        31437.0|      Individual|              null|                     null|2024-02-11 00:14:...|\n",
       "|1d1dbd9ea18f2282e...|Project Manager S...| 10+ years|      MORTGAGE|     115000.0|           GA|          308xx|            USA|    B|       B3|    Source Verified|       153887.0|      Individual|              null|                     null|2024-02-11 00:14:...|\n",
       "|c138d66b51da8cb41...|            Mechanic|   4 years|           OWN|      65000.0|           TX|          759xx|            USA|    C|       C3|    Source Verified|        76896.0|      Individual|              null|                     null|2024-02-11 00:14:...|\n",
       "|db113b0864b2989a4...|             teacher| 10+ years|           OWN|      53039.0|           AR|          723xx|            USA|    E|       E1|    Source Verified|        27700.0|      Individual|              null|                     null|2024-02-11 00:14:...|\n",
       "|88559a56fbc3db273...|System Specialist...|   2 years|      MORTGAGE|      85400.0|           TX|          782xx|            USA|    E|       E1|           Verified|       195822.0|      Individual|              null|                     null|2024-02-11 00:14:...|\n",
       "|83eb329c41ff907d7...|           Physician|  < 1 year|          RENT|     100000.0|           OH|          436xx|            USA|    F|       F1|    Source Verified|       271099.0|      Individual|              null|                     null|2024-02-11 00:14:...|\n",
       "|5aa4c9c66886615d6...|           Bartender| 10+ years|          RENT|      55000.0|           FL|          331xx|            USA|    A|       A5|    Source Verified|        20400.0|      Individual|              null|                     null|2024-02-11 00:14:...|\n",
       "|7d5f4847087ae1e13...|    registered nurse|   6 years|      MORTGAGE|      96000.0|           CT|          066xx|            USA|    B|       B3|           Verified|       322599.0|      Individual|              null|                     null|2024-02-11 00:14:...|\n",
       "|9803a2ba1dd51a2b3...|          Pharmacist|   2 years|      MORTGAGE|     120000.0|           NC|          285xx|            USA|    A|       A5|           Verified|       380518.0|      Individual|              null|                     null|2024-02-11 00:14:...|\n",
       "|f529fad7df5bd4ddc...|           Carpenter| 10+ years|          RENT|      30000.0|           KS|          665xx|            USA|    B|       B5|       Not Verified|         9000.0|      Individual|              null|                     null|2024-02-11 00:14:...|\n",
       "|955dd391c05f41614...|       Fleet Manager|    1 year|      MORTGAGE|      63000.0|           MN|          551xx|            USA|    C|       C3|    Source Verified|       216397.0|      Individual|              null|                     null|2024-02-11 00:14:...|\n",
       "|70d71a44a8be8e184...|      Branch Manager| 10+ years|      MORTGAGE|      85000.0|           TX|          799xx|            USA|    B|       B3|           Verified|       149108.0|      Individual|              null|                     null|2024-02-11 00:14:...|\n",
       "|e667a6d387d115b88...|Disability Evalua...|   7 years|      MORTGAGE|      58212.0|           CA|          957xx|            USA|    E|       E3|           Verified|       288821.0|      Individual|              null|                     null|2024-02-11 00:14:...|\n",
       "|bfc7da84cba8f316d...|                null| 10+ years|      MORTGAGE|     185000.0|           CA|          949xx|            USA|    A|       A3|    Source Verified|       863395.0|      Individual|              null|                     null|2024-02-11 00:14:...|\n",
       "|186bc3c355c43b6c4...|Corporate Travel ...|  < 1 year|      MORTGAGE|     110000.0|           TX|          774xx|            USA|    B|       B5|       Not Verified|       367101.0|      Individual|              null|                     null|2024-02-11 00:14:...|\n",
       "|5de94bc0ee283a1ec...|             Teacher| 10+ years|      MORTGAGE|      40000.0|           FL|          334xx|            USA|    B|       B1|           Verified|        86019.0|      Individual|              null|                     null|2024-02-11 00:14:...|\n",
       "+--------------------+--------------------+----------+--------------+-------------+-------------+---------------+---------------+-----+---------+-------------------+---------------+----------------+------------------+-------------------------+--------------------+\n",
       "only showing top 20 rows"
      ]
     },
     "execution_count": 15,
     "metadata": {},
     "output_type": "execute_result"
    }
   ],
   "source": [
    "spark.sql(\"select * from customers\")"
   ]
  },
  {
   "cell_type": "markdown",
   "id": "d47cd0db",
   "metadata": {},
   "source": [
    "#### 5. Remove the rows where annual_income is null"
   ]
  },
  {
   "cell_type": "code",
   "execution_count": 16,
   "id": "376ba18f",
   "metadata": {},
   "outputs": [
    {
     "data": {
      "text/html": [
       "<table border='1'>\n",
       "<tr><th>count(1)</th></tr>\n",
       "<tr><td>5</td></tr>\n",
       "</table>\n"
      ],
      "text/plain": [
       "+--------+\n",
       "|count(1)|\n",
       "+--------+\n",
       "|       5|\n",
       "+--------+"
      ]
     },
     "execution_count": 16,
     "metadata": {},
     "output_type": "execute_result"
    }
   ],
   "source": [
    "spark.sql(\"select count(*) from customers where annual_income is null\")"
   ]
  },
  {
   "cell_type": "code",
   "execution_count": 17,
   "id": "78ead81e",
   "metadata": {},
   "outputs": [],
   "source": [
    "customers_income_filtered = spark.sql(\"select * from customers where annual_income is not null\")"
   ]
  },
  {
   "cell_type": "code",
   "execution_count": 18,
   "id": "78b2a6a7",
   "metadata": {},
   "outputs": [],
   "source": [
    "customers_income_filtered.createOrReplaceTempView(\"customers\")"
   ]
  },
  {
   "cell_type": "code",
   "execution_count": 19,
   "id": "149cc83a",
   "metadata": {},
   "outputs": [
    {
     "data": {
      "text/html": [
       "<table border='1'>\n",
       "<tr><th>count(1)</th></tr>\n",
       "<tr><td>0</td></tr>\n",
       "</table>\n"
      ],
      "text/plain": [
       "+--------+\n",
       "|count(1)|\n",
       "+--------+\n",
       "|       0|\n",
       "+--------+"
      ]
     },
     "execution_count": 19,
     "metadata": {},
     "output_type": "execute_result"
    }
   ],
   "source": [
    "spark.sql(\"select count(*) from customers where annual_income is null\")"
   ]
  },
  {
   "cell_type": "markdown",
   "id": "561dae68",
   "metadata": {},
   "source": [
    "### 6. convert emp_length to integer"
   ]
  },
  {
   "cell_type": "code",
   "execution_count": 20,
   "id": "4fe669bf",
   "metadata": {},
   "outputs": [
    {
     "data": {
      "text/html": [
       "<table border='1'>\n",
       "<tr><th>emp_length</th></tr>\n",
       "<tr><td>5 years</td></tr>\n",
       "<tr><td>9 years</td></tr>\n",
       "<tr><td>null</td></tr>\n",
       "<tr><td>1 year</td></tr>\n",
       "<tr><td>2 years</td></tr>\n",
       "<tr><td>7 years</td></tr>\n",
       "<tr><td>8 years</td></tr>\n",
       "<tr><td>4 years</td></tr>\n",
       "<tr><td>6 years</td></tr>\n",
       "<tr><td>3 years</td></tr>\n",
       "<tr><td>10+ years</td></tr>\n",
       "<tr><td>&lt; 1 year</td></tr>\n",
       "</table>\n"
      ],
      "text/plain": [
       "+----------+\n",
       "|emp_length|\n",
       "+----------+\n",
       "|   9 years|\n",
       "|   5 years|\n",
       "|      null|\n",
       "|    1 year|\n",
       "|   2 years|\n",
       "|   7 years|\n",
       "|   8 years|\n",
       "|   4 years|\n",
       "|   6 years|\n",
       "|   3 years|\n",
       "| 10+ years|\n",
       "|  < 1 year|\n",
       "+----------+"
      ]
     },
     "execution_count": 20,
     "metadata": {},
     "output_type": "execute_result"
    }
   ],
   "source": [
    "spark.sql(\"select distinct(emp_length) from customers\")"
   ]
  },
  {
   "cell_type": "code",
   "execution_count": 21,
   "id": "63c691a4",
   "metadata": {},
   "outputs": [],
   "source": [
    "from pyspark.sql.functions import regexp_replace, col"
   ]
  },
  {
   "cell_type": "code",
   "execution_count": 22,
   "id": "4a3cafdc",
   "metadata": {},
   "outputs": [],
   "source": [
    "customers_emplength_cleaned = customers_income_filtered.withColumn(\"emp_length\", regexp_replace(col(\"emp_length\"), \"(\\D)\",\"\"))"
   ]
  },
  {
   "cell_type": "code",
   "execution_count": 23,
   "id": "6fa4bb4b",
   "metadata": {},
   "outputs": [
    {
     "data": {
      "text/html": [
       "<table border='1'>\n",
       "<tr><th>member_id</th><th>emp_title</th><th>emp_length</th><th>home_ownership</th><th>annual_income</th><th>address_state</th><th>address_zipcode</th><th>address_country</th><th>grade</th><th>sub_grade</th><th>verification_status</th><th>tot_hi_cred_lim</th><th>application_type</th><th>join_annual_income</th><th>verification_status_joint</th><th>ingest_date</th></tr>\n",
       "<tr><td>7544103829c3082b7...</td><td>technician</td><td>10</td><td>MORTGAGE</td><td>36000.0</td><td>OH</td><td>433xx</td><td>USA</td><td>B</td><td>B2</td><td>Not Verified</td><td>23820.0</td><td>Individual</td><td>null</td><td>null</td><td>2024-02-11 00:14:...</td></tr>\n",
       "<tr><td>c25963d7a66a7abc6...</td><td>Claims adjuster</td><td>7</td><td>MORTGAGE</td><td>57500.0</td><td>OK</td><td>741xx</td><td>USA</td><td>B</td><td>B5</td><td>Source Verified</td><td>109500.0</td><td>Individual</td><td>null</td><td>null</td><td>2024-02-11 00:14:...</td></tr>\n",
       "<tr><td>6c32bb4a54a6b52f8...</td><td>Clinical Director</td><td>7</td><td>RENT</td><td>78250.0</td><td>FL</td><td>325xx</td><td>USA</td><td>D</td><td>D1</td><td>Not Verified</td><td>62519.0</td><td>Individual</td><td>null</td><td>null</td><td>2024-02-11 00:14:...</td></tr>\n",
       "<tr><td>6d04824f59eb43a2e...</td><td>OTR Driver</td><td>1</td><td>OWN</td><td>60000.0</td><td>NC</td><td>287xx</td><td>USA</td><td>F</td><td>F3</td><td>Source Verified</td><td>9000.0</td><td>Individual</td><td>null</td><td>null</td><td>2024-02-11 00:14:...</td></tr>\n",
       "<tr><td>5674e80b7cc0315da...</td><td>Safety managerr</td><td>1</td><td>RENT</td><td>195000.0</td><td>UT</td><td>840xx</td><td>USA</td><td>A</td><td>A4</td><td>Source Verified</td><td>129849.0</td><td>Individual</td><td>null</td><td>null</td><td>2024-02-11 00:14:...</td></tr>\n",
       "<tr><td>dbb33bb6f937e49ec...</td><td>Administrative Of...</td><td>10</td><td>OWN</td><td>153510.0</td><td>VA</td><td>234xx</td><td>USA</td><td>A</td><td>A4</td><td>Not Verified</td><td>512205.0</td><td>Individual</td><td>null</td><td>null</td><td>2024-02-11 00:14:...</td></tr>\n",
       "<tr><td>1eb4c05e05010c9cd...</td><td>Sales Manager</td><td>1</td><td>MORTGAGE</td><td>205000.0</td><td>NY</td><td>115xx</td><td>USA</td><td>E</td><td>E4</td><td>Verified</td><td>589964.0</td><td>Individual</td><td>null</td><td>null</td><td>2024-02-11 00:14:...</td></tr>\n",
       "<tr><td>6ea4a54bbf43cc2f5...</td><td>Business Consultant</td><td>10</td><td>OWN</td><td>86000.0</td><td>OH</td><td>451xx</td><td>USA</td><td>D</td><td>D2</td><td>Not Verified</td><td>242788.0</td><td>Individual</td><td>null</td><td>null</td><td>2024-02-11 00:14:...</td></tr>\n",
       "<tr><td>a9d2af1b8e43f4f73...</td><td>housekeeping</td><td>10</td><td>RENT</td><td>39000.0</td><td>NY</td><td>107xx</td><td>USA</td><td>C</td><td>C2</td><td>Source Verified</td><td>15000.0</td><td>Individual</td><td>null</td><td>null</td><td>2024-02-11 00:14:...</td></tr>\n",
       "<tr><td>ac8452e99a0540b43...</td><td>Met Associate</td><td>5</td><td>OWN</td><td>64000.0</td><td>CA</td><td>945xx</td><td>USA</td><td>C</td><td>C1</td><td>Source Verified</td><td>25200.0</td><td>Individual</td><td>null</td><td>null</td><td>2024-02-11 00:14:...</td></tr>\n",
       "<tr><td>10ef44ed37e464985...</td><td>Pediatric Hematol...</td><td>10</td><td>OWN</td><td>470000.0</td><td>NJ</td><td>076xx</td><td>USA</td><td>A</td><td>A1</td><td>Source Verified</td><td>1325260.0</td><td>Individual</td><td>null</td><td>null</td><td>2024-02-11 00:14:...</td></tr>\n",
       "<tr><td>f81b4fc616163a264...</td><td>Furnish Operator</td><td>10</td><td>RENT</td><td>44000.0</td><td>NM</td><td>870xx</td><td>USA</td><td>B</td><td>B1</td><td>Verified</td><td>61201.0</td><td>Individual</td><td>null</td><td>null</td><td>2024-02-11 00:14:...</td></tr>\n",
       "<tr><td>7f9eedea6a00df58a...</td><td>teacher</td><td>10</td><td>MORTGAGE</td><td>92000.0</td><td>NY</td><td>115xx</td><td>USA</td><td>A</td><td>A1</td><td>Not Verified</td><td>714502.0</td><td>Individual</td><td>null</td><td>null</td><td>2024-02-11 00:14:...</td></tr>\n",
       "<tr><td>7064dcc2c24fd53ee...</td><td>Instructor/Coordi...</td><td>1</td><td>MORTGAGE</td><td>62468.0</td><td>CA</td><td>933xx</td><td>USA</td><td>D</td><td>D5</td><td>Source Verified</td><td>55392.0</td><td>Joint App</td><td>78252.0</td><td>Not Verified</td><td>2024-02-11 00:14:...</td></tr>\n",
       "<tr><td>ad5c651ef22a9b069...</td><td>President</td><td>10</td><td>MORTGAGE</td><td>52417.0</td><td>GA</td><td>300xx</td><td>USA</td><td>C</td><td>C2</td><td>Not Verified</td><td>232064.0</td><td>Individual</td><td>null</td><td>null</td><td>2024-02-11 00:14:...</td></tr>\n",
       "<tr><td>d08d45c6e742947ec...</td><td>Senior Paralegal</td><td>5</td><td>RENT</td><td>93000.0</td><td>CA</td><td>941xx</td><td>USA</td><td>C</td><td>C3</td><td>Source Verified</td><td>37058.0</td><td>Individual</td><td>null</td><td>null</td><td>2024-02-11 00:14:...</td></tr>\n",
       "<tr><td>8587e55442aa875b8...</td><td>Employment Specia...</td><td>4</td><td>MORTGAGE</td><td>30714.0</td><td>WY</td><td>828xx</td><td>USA</td><td>D</td><td>D4</td><td>Not Verified</td><td>148124.0</td><td>Individual</td><td>null</td><td>null</td><td>2024-02-11 00:14:...</td></tr>\n",
       "<tr><td>81f6e554606826ff5...</td><td>null</td><td>null</td><td>OWN</td><td>26375.0</td><td>FL</td><td>329xx</td><td>USA</td><td>C</td><td>C3</td><td>Source Verified</td><td>14100.0</td><td>Individual</td><td>null</td><td>null</td><td>2024-02-11 00:14:...</td></tr>\n",
       "<tr><td>60292a707fdd16459...</td><td>Operating room asst</td><td>2</td><td>RENT</td><td>32000.0</td><td>MD</td><td>207xx</td><td>USA</td><td>C</td><td>C2</td><td>Source Verified</td><td>30480.0</td><td>Individual</td><td>null</td><td>null</td><td>2024-02-11 00:14:...</td></tr>\n",
       "<tr><td>55aeedc27bdb99b24...</td><td>Table Games Dealer</td><td>3</td><td>RENT</td><td>71500.0</td><td>CA</td><td>925xx</td><td>USA</td><td>E</td><td>E2</td><td>Source Verified</td><td>77092.0</td><td>Individual</td><td>null</td><td>null</td><td>2024-02-11 00:14:...</td></tr>\n",
       "</table>\n",
       "only showing top 20 rows\n"
      ],
      "text/plain": [
       "+--------------------+--------------------+----------+--------------+-------------+-------------+---------------+---------------+-----+---------+-------------------+---------------+----------------+------------------+-------------------------+--------------------+\n",
       "|           member_id|           emp_title|emp_length|home_ownership|annual_income|address_state|address_zipcode|address_country|grade|sub_grade|verification_status|tot_hi_cred_lim|application_type|join_annual_income|verification_status_joint|         ingest_date|\n",
       "+--------------------+--------------------+----------+--------------+-------------+-------------+---------------+---------------+-----+---------+-------------------+---------------+----------------+------------------+-------------------------+--------------------+\n",
       "|ff591eb2ca4277f7c...|                null|      null|          RENT|     170300.0|           CA|          956xx|            USA|    C|       C2|    Source Verified|        80019.0|      Individual|              null|                     null|2024-02-11 00:14:...|\n",
       "|98153da9f9e254bbe...|Administrative As...|        10|      MORTGAGE|      80000.0|           TX|          786xx|            USA|    D|       D1|           Verified|       249317.0|      Individual|              null|                     null|2024-02-11 00:14:...|\n",
       "|1002c5d6a159455b6...|  Executive Director|         4|      MORTGAGE|      90000.0|           TX|          775xx|            USA|    A|       A2|       Not Verified|       221824.0|      Individual|              null|                     null|2024-02-11 00:14:...|\n",
       "|e2cda2bdcb02bff37...|Warehouse Supervisor|         2|      MORTGAGE|      60000.0|           NY|          140xx|            USA|    C|       C4|           Verified|       153480.0|      Individual|              null|                     null|2024-02-11 00:14:...|\n",
       "|ec2e5063f22ccd3e2...|Customer Service ...|         2|          RENT|      55000.0|           MI|          481xx|            USA|    D|       D3|           Verified|        40515.0|      Individual|              null|                     null|2024-02-11 00:14:...|\n",
       "|87acffb6e4729b87c...|Production System...|        10|          RENT|      57000.0|           CO|          805xx|            USA|    F|       F3|    Source Verified|        45601.0|      Individual|              null|                     null|2024-02-11 00:14:...|\n",
       "|200da20af5a51f6fb...|   Forklift Operator|         1|      MORTGAGE|      28000.0|           OH|          431xx|            USA|    D|       D4|    Source Verified|        29379.0|      Individual|              null|                     null|2024-02-11 00:14:...|\n",
       "|6ceea7f3906779b74...|Manager, Executiv...|        10|      MORTGAGE|     165000.0|           IL|          620xx|            USA|    A|       A3|    Source Verified|       436210.0|      Individual|              null|                     null|2024-02-11 00:14:...|\n",
       "|81df845d2f0bc2cac...|private investaga...|        10|      MORTGAGE|      41600.0|           TX|          763xx|            USA|    C|       C5|    Source Verified|        40013.0|      Individual|              null|                     null|2024-02-11 00:14:...|\n",
       "|392f213615f41a0c7...|        truck driver|        10|      MORTGAGE|      55000.0|           VA|          233xx|            USA|    B|       B3|           Verified|       222872.0|      Individual|              null|                     null|2024-02-11 00:14:...|\n",
       "|c59ca0bf280150eb9...|            Engineer|         8|      MORTGAGE|      85000.0|           TX|          770xx|            USA|    A|       A4|       Not Verified|       191210.0|      Individual|              null|                     null|2024-02-11 00:14:...|\n",
       "|9b9dcc9a970fd4dac...|          Lead Tech.|         3|      MORTGAGE|      55000.0|           PA|          154xx|            USA|    C|       C3|           Verified|       164078.0|      Individual|              null|                     null|2024-02-11 00:14:...|\n",
       "|2caddef08a486abb2...|    Registered Nurse|        10|      MORTGAGE|      74000.0|           WA|          993xx|            USA|    A|       A2|           Verified|       139039.0|      Individual|              null|                     null|2024-02-11 00:14:...|\n",
       "|b26ed3f1dbd34aa58...|             Manager|         4|          RENT|      48000.0|           MO|          633xx|            USA|    C|       C1|       Not Verified|        32940.0|      Individual|              null|                     null|2024-02-11 00:14:...|\n",
       "|f344a09d88a3de364...|    Security Officer|         1|          RENT|      25000.0|           UT|          840xx|            USA|    B|       B1|    Source Verified|        21500.0|      Individual|              null|                     null|2024-02-11 00:14:...|\n",
       "|fa03e76f0328aaac0...|Administrative Di...|         1|      MORTGAGE|      40000.0|           AZ|          852xx|            USA|    C|       C1|       Not Verified|        13174.0|      Individual|              null|                     null|2024-02-11 00:14:...|\n",
       "|1bda21c4e217c13f5...|Special Education...|         2|          RENT|      50000.0|           CA|          930xx|            USA|    D|       D1|           Verified|        83438.0|      Individual|              null|                     null|2024-02-11 00:14:...|\n",
       "|53692912000fd51ba...|Medical Technologist|         1|          RENT|      50000.0|           LA|          707xx|            USA|    A|       A4|       Not Verified|        90299.0|      Individual|              null|                     null|2024-02-11 00:14:...|\n",
       "|d23476b3c89444db3...| Sr Research Analyst|        10|      MORTGAGE|      63000.0|           TX|          770xx|            USA|    E|       E2|    Source Verified|       225726.0|      Individual|              null|                     null|2024-02-11 00:14:...|\n",
       "|9c11dc58da48c76c8...|instrumentation a...|         7|      MORTGAGE|     170000.0|           IN|          464xx|            USA|    C|       C4|           Verified|       578276.0|      Individual|              null|                     null|2024-02-11 00:14:...|\n",
       "+--------------------+--------------------+----------+--------------+-------------+-------------+---------------+---------------+-----+---------+-------------------+---------------+----------------+------------------+-------------------------+--------------------+\n",
       "only showing top 20 rows"
      ]
     },
     "execution_count": 23,
     "metadata": {},
     "output_type": "execute_result"
    }
   ],
   "source": [
    "customers_emplength_cleaned"
   ]
  },
  {
   "cell_type": "code",
   "execution_count": 24,
   "id": "244572f7",
   "metadata": {},
   "outputs": [
    {
     "name": "stdout",
     "output_type": "stream",
     "text": [
      "root\n",
      " |-- member_id: string (nullable = true)\n",
      " |-- emp_title: string (nullable = true)\n",
      " |-- emp_length: string (nullable = true)\n",
      " |-- home_ownership: string (nullable = true)\n",
      " |-- annual_income: float (nullable = true)\n",
      " |-- address_state: string (nullable = true)\n",
      " |-- address_zipcode: string (nullable = true)\n",
      " |-- address_country: string (nullable = true)\n",
      " |-- grade: string (nullable = true)\n",
      " |-- sub_grade: string (nullable = true)\n",
      " |-- verification_status: string (nullable = true)\n",
      " |-- tot_hi_cred_lim: float (nullable = true)\n",
      " |-- application_type: string (nullable = true)\n",
      " |-- join_annual_income: float (nullable = true)\n",
      " |-- verification_status_joint: string (nullable = true)\n",
      " |-- ingest_date: timestamp (nullable = false)\n",
      "\n"
     ]
    }
   ],
   "source": [
    "customers_emplength_cleaned.printSchema()"
   ]
  },
  {
   "cell_type": "code",
   "execution_count": 25,
   "id": "caf4c456",
   "metadata": {},
   "outputs": [],
   "source": [
    "customers_emplength_casted = customers_emplength_cleaned.withColumn(\"emp_length\", customers_emplength_cleaned.emp_length.cast('int'))"
   ]
  },
  {
   "cell_type": "code",
   "execution_count": 26,
   "id": "196e428f",
   "metadata": {},
   "outputs": [
    {
     "data": {
      "text/html": [
       "<table border='1'>\n",
       "<tr><th>member_id</th><th>emp_title</th><th>emp_length</th><th>home_ownership</th><th>annual_income</th><th>address_state</th><th>address_zipcode</th><th>address_country</th><th>grade</th><th>sub_grade</th><th>verification_status</th><th>tot_hi_cred_lim</th><th>application_type</th><th>join_annual_income</th><th>verification_status_joint</th><th>ingest_date</th></tr>\n",
       "<tr><td>e80b2072937e13019...</td><td>Automobile Techni...</td><td>8</td><td>RENT</td><td>83000.0</td><td>IL</td><td>606xx</td><td>USA</td><td>B</td><td>B2</td><td>Not Verified</td><td>50922.0</td><td>Individual</td><td>null</td><td>null</td><td>2024-02-11 00:14:...</td></tr>\n",
       "<tr><td>1162a5aef0355f5f4...</td><td>teacher</td><td>10</td><td>MORTGAGE</td><td>65000.0</td><td>AZ</td><td>851xx</td><td>USA</td><td>B</td><td>B3</td><td>Source Verified</td><td>169436.0</td><td>Individual</td><td>null</td><td>null</td><td>2024-02-11 00:14:...</td></tr>\n",
       "<tr><td>18f2a9414e873e2d1...</td><td>Registered Nurse</td><td>3</td><td>OWN</td><td>60000.0</td><td>FL</td><td>322xx</td><td>USA</td><td>C</td><td>C2</td><td>Source Verified</td><td>77604.0</td><td>Individual</td><td>null</td><td>null</td><td>2024-02-11 00:14:...</td></tr>\n",
       "<tr><td>d9af6aba979703a44...</td><td>Automation Engineer</td><td>2</td><td>MORTGAGE</td><td>60000.0</td><td>OH</td><td>452xx</td><td>USA</td><td>A</td><td>A5</td><td>Verified</td><td>235000.0</td><td>Individual</td><td>null</td><td>null</td><td>2024-02-11 00:14:...</td></tr>\n",
       "<tr><td>fb570e5cf8208009a...</td><td>Director of sales</td><td>10</td><td>MORTGAGE</td><td>93600.0</td><td>CA</td><td>956xx</td><td>USA</td><td>B</td><td>B3</td><td>Verified</td><td>559343.0</td><td>Individual</td><td>null</td><td>null</td><td>2024-02-11 00:14:...</td></tr>\n",
       "<tr><td>d752764467c1c65b3...</td><td>Medical Technician</td><td>1</td><td>RENT</td><td>30000.0</td><td>NV</td><td>897xx</td><td>USA</td><td>C</td><td>C2</td><td>Not Verified</td><td>22300.0</td><td>Individual</td><td>null</td><td>null</td><td>2024-02-11 00:14:...</td></tr>\n",
       "<tr><td>ce25e0ea5bfde5727...</td><td>plant operator</td><td>10</td><td>RENT</td><td>45000.0</td><td>CA</td><td>928xx</td><td>USA</td><td>B</td><td>B2</td><td>Not Verified</td><td>23074.0</td><td>Individual</td><td>null</td><td>null</td><td>2024-02-11 00:14:...</td></tr>\n",
       "<tr><td>76af651bf2507dc9f...</td><td>Principal</td><td>6</td><td>MORTGAGE</td><td>97000.0</td><td>OH</td><td>440xx</td><td>USA</td><td>E</td><td>E2</td><td>Verified</td><td>357201.0</td><td>Individual</td><td>null</td><td>null</td><td>2024-02-11 00:14:...</td></tr>\n",
       "<tr><td>5fcddfe82ad68b035...</td><td>Class A CDL Driver</td><td>10</td><td>OWN</td><td>45000.0</td><td>TX</td><td>761xx</td><td>USA</td><td>B</td><td>B5</td><td>Not Verified</td><td>53101.0</td><td>Individual</td><td>null</td><td>null</td><td>2024-02-11 00:14:...</td></tr>\n",
       "<tr><td>8f85013a66fc4853d...</td><td>President/CEO</td><td>1</td><td>MORTGAGE</td><td>125000.0</td><td>TX</td><td>792xx</td><td>USA</td><td>A</td><td>A5</td><td>Verified</td><td>430208.0</td><td>Individual</td><td>null</td><td>null</td><td>2024-02-11 00:14:...</td></tr>\n",
       "<tr><td>14b89be8f1ffaaa81...</td><td>prep</td><td>4</td><td>MORTGAGE</td><td>33000.0</td><td>MA</td><td>027xx</td><td>USA</td><td>E</td><td>E3</td><td>Source Verified</td><td>177800.0</td><td>Individual</td><td>null</td><td>null</td><td>2024-02-11 00:14:...</td></tr>\n",
       "<tr><td>c68287f9f67405b3e...</td><td>RN</td><td>5</td><td>MORTGAGE</td><td>82000.0</td><td>AZ</td><td>850xx</td><td>USA</td><td>D</td><td>D4</td><td>Verified</td><td>447086.0</td><td>Individual</td><td>null</td><td>null</td><td>2024-02-11 00:14:...</td></tr>\n",
       "<tr><td>270d67c3d483c147c...</td><td>Teacher</td><td>10</td><td>MORTGAGE</td><td>55000.0</td><td>TX</td><td>750xx</td><td>USA</td><td>C</td><td>C3</td><td>Verified</td><td>193859.0</td><td>Individual</td><td>null</td><td>null</td><td>2024-02-11 00:14:...</td></tr>\n",
       "<tr><td>8ab52bf9882e7ab80...</td><td>BULK DRIVER</td><td>10</td><td>MORTGAGE</td><td>78000.0</td><td>TX</td><td>775xx</td><td>USA</td><td>D</td><td>D3</td><td>Not Verified</td><td>166486.0</td><td>Individual</td><td>null</td><td>null</td><td>2024-02-11 00:14:...</td></tr>\n",
       "<tr><td>0975a6a9408c71b16...</td><td>Training Specialist</td><td>10</td><td>RENT</td><td>55000.0</td><td>OR</td><td>970xx</td><td>USA</td><td>A</td><td>A5</td><td>Source Verified</td><td>41685.0</td><td>Individual</td><td>null</td><td>null</td><td>2024-02-11 00:14:...</td></tr>\n",
       "<tr><td>83af05407ba60d895...</td><td>Supervisor</td><td>10</td><td>RENT</td><td>67000.0</td><td>NY</td><td>112xx</td><td>USA</td><td>C</td><td>C5</td><td>Verified</td><td>47036.0</td><td>Individual</td><td>null</td><td>null</td><td>2024-02-11 00:14:...</td></tr>\n",
       "<tr><td>81df845d2f0bc2cac...</td><td>private investaga...</td><td>10</td><td>MORTGAGE</td><td>41600.0</td><td>TX</td><td>763xx</td><td>USA</td><td>C</td><td>C5</td><td>Source Verified</td><td>40013.0</td><td>Individual</td><td>null</td><td>null</td><td>2024-02-11 00:14:...</td></tr>\n",
       "<tr><td>452ee18b6f941109a...</td><td>Crew Lead</td><td>3</td><td>RENT</td><td>65000.0</td><td>PA</td><td>188xx</td><td>USA</td><td>E</td><td>E2</td><td>Verified</td><td>52644.0</td><td>Individual</td><td>null</td><td>null</td><td>2024-02-11 00:14:...</td></tr>\n",
       "<tr><td>23ff6136ff7555ee7...</td><td>physical therapist</td><td>1</td><td>RENT</td><td>60000.0</td><td>NY</td><td>110xx</td><td>USA</td><td>B</td><td>B4</td><td>Not Verified</td><td>54337.0</td><td>Individual</td><td>null</td><td>null</td><td>2024-02-11 00:14:...</td></tr>\n",
       "<tr><td>7f90c88542bce21a2...</td><td>Registered Nurse</td><td>4</td><td>MORTGAGE</td><td>64251.0</td><td>PA</td><td>152xx</td><td>USA</td><td>C</td><td>C2</td><td>Not Verified</td><td>87544.0</td><td>Individual</td><td>null</td><td>null</td><td>2024-02-11 00:14:...</td></tr>\n",
       "</table>\n",
       "only showing top 20 rows\n"
      ],
      "text/plain": [
       "+--------------------+--------------------+----------+--------------+-------------+-------------+---------------+---------------+-----+---------+-------------------+---------------+----------------+------------------+-------------------------+--------------------+\n",
       "|           member_id|           emp_title|emp_length|home_ownership|annual_income|address_state|address_zipcode|address_country|grade|sub_grade|verification_status|tot_hi_cred_lim|application_type|join_annual_income|verification_status_joint|         ingest_date|\n",
       "+--------------------+--------------------+----------+--------------+-------------+-------------+---------------+---------------+-----+---------+-------------------+---------------+----------------+------------------+-------------------------+--------------------+\n",
       "|fb041c020c4ff6292...|Sr. Customer Spec...|        10|      MORTGAGE|      65000.0|           CO|          802xx|            USA|    B|       B4|           Verified|       202119.0|      Individual|              null|                     null|2024-02-11 00:14:...|\n",
       "|0d8aabd3c1ee66a2f...|        SR. ADJUSTER|        10|          RENT|      63000.0|           CA|          913xx|            USA|    B|       B4|           Verified|        39510.0|      Individual|              null|                     null|2024-02-11 00:14:...|\n",
       "|b4f083cb85ccbad52...|    Senior Associate|         3|      MORTGAGE|      68000.0|           CA|          957xx|            USA|    A|       A2|    Source Verified|       244818.0|      Individual|              null|                     null|2024-02-11 00:14:...|\n",
       "|2130c88ffc83d7132...|  Prod Control Clerk|         6|      MORTGAGE|      61000.0|           NJ|          080xx|            USA|    B|       B1|    Source Verified|       155186.0|      Individual|              null|                     null|2024-02-11 00:14:...|\n",
       "|1faa46d0197bb8ad1...| marketing associate|         2|          RENT|      49000.0|           IL|          600xx|            USA|    B|       B4|       Not Verified|        74094.0|      Individual|              null|                     null|2024-02-11 00:14:...|\n",
       "|b1b23f1a4c8a26221...|      Internal Audit|         3|          RENT|      95000.0|           TX|          787xx|            USA|    C|       C3|       Not Verified|        15974.0|      Individual|              null|                     null|2024-02-11 00:14:...|\n",
       "|57578c40b1f723387...|    Registered nurse|         3|          RENT|      55000.0|           GA|          301xx|            USA|    C|       C4|           Verified|       254809.0|      Individual|              null|                     null|2024-02-11 00:14:...|\n",
       "|6d9dfdfd2433367dd...|SENIOR CLIENT SER...|        10|          RENT|      48000.0|           CA|          941xx|            USA|    B|       B5|    Source Verified|        39900.0|      Individual|              null|                     null|2024-02-11 00:14:...|\n",
       "|6b68cfe65e8eef7a7...|                 BOS|         2|          RENT|      25000.0|           WY|          825xx|            USA|    C|       C5|           Verified|       136200.0|      Individual|              null|                     null|2024-02-11 00:14:...|\n",
       "|a41dacdc675ccfc8d...|                null|      null|      MORTGAGE|      46000.0|           FL|          334xx|            USA|    A|       A5|    Source Verified|       169371.0|      Individual|              null|                     null|2024-02-11 00:14:...|\n",
       "|3a93bdaf24d117be1...|                null|      null|      MORTGAGE|     120000.0|           CA|          932xx|            USA|    C|       C1|           Verified|        76817.0|      Individual|              null|                     null|2024-02-11 00:14:...|\n",
       "|887665f142bc2bc0b...|  Solution Architect|         9|      MORTGAGE|      98000.0|           MO|          640xx|            USA|    A|       A3|    Source Verified|       367654.0|      Individual|              null|                     null|2024-02-11 00:14:...|\n",
       "|c8419415019a35228...|    Revenue Examiner|         7|      MORTGAGE|      56000.0|           AL|          361xx|            USA|    A|       A5|    Source Verified|       298337.0|      Individual|              null|                     null|2024-02-11 00:14:...|\n",
       "|305b900f9f7748d4a...|                null|         3|      MORTGAGE|     240000.0|           CT|          068xx|            USA|    C|       C5|           Verified|       612138.0|      Individual|              null|                     null|2024-02-11 00:14:...|\n",
       "|b6da1c292b21a3610...|Medical Laborator...|        10|      MORTGAGE|      60000.0|           MI|          497xx|            USA|    B|       B3|           Verified|       199763.0|      Individual|              null|                     null|2024-02-11 00:14:...|\n",
       "|3ac8fdd9b811b2509...| Assistant Principal|        10|           OWN|      62000.0|           TX|          775xx|            USA|    A|       A5|           Verified|       262964.0|      Individual|              null|                     null|2024-02-11 00:14:...|\n",
       "|32ae44a75f58cc541...|                 LTO|         7|      MORTGAGE|      42000.0|           GA|          307xx|            USA|    C|       C1|           Verified|       118503.0|      Individual|              null|                     null|2024-02-11 00:14:...|\n",
       "|e97c0eaabd780c517...|NCOIC, Education ...|        10|      MORTGAGE|      55200.0|           AZ|          853xx|            USA|    B|       B2|    Source Verified|       225100.0|      Individual|              null|                     null|2024-02-11 00:14:...|\n",
       "|6f0d10dfc7742081e...|Correctional Officer|         5|          RENT|      75000.0|           CA|          923xx|            USA|    C|       C3|    Source Verified|        55863.0|      Individual|              null|                     null|2024-02-11 00:14:...|\n",
       "|54f2f73d891bfcf54...|                null|      null|          RENT|      18000.0|           FL|          346xx|            USA|    B|       B2|           Verified|        21600.0|      Individual|              null|                     null|2024-02-11 00:14:...|\n",
       "+--------------------+--------------------+----------+--------------+-------------+-------------+---------------+---------------+-----+---------+-------------------+---------------+----------------+------------------+-------------------------+--------------------+\n",
       "only showing top 20 rows"
      ]
     },
     "execution_count": 26,
     "metadata": {},
     "output_type": "execute_result"
    }
   ],
   "source": [
    "customers_emplength_casted"
   ]
  },
  {
   "cell_type": "code",
   "execution_count": 27,
   "id": "fbb203bd",
   "metadata": {},
   "outputs": [
    {
     "name": "stdout",
     "output_type": "stream",
     "text": [
      "root\n",
      " |-- member_id: string (nullable = true)\n",
      " |-- emp_title: string (nullable = true)\n",
      " |-- emp_length: integer (nullable = true)\n",
      " |-- home_ownership: string (nullable = true)\n",
      " |-- annual_income: float (nullable = true)\n",
      " |-- address_state: string (nullable = true)\n",
      " |-- address_zipcode: string (nullable = true)\n",
      " |-- address_country: string (nullable = true)\n",
      " |-- grade: string (nullable = true)\n",
      " |-- sub_grade: string (nullable = true)\n",
      " |-- verification_status: string (nullable = true)\n",
      " |-- tot_hi_cred_lim: float (nullable = true)\n",
      " |-- application_type: string (nullable = true)\n",
      " |-- join_annual_income: float (nullable = true)\n",
      " |-- verification_status_joint: string (nullable = true)\n",
      " |-- ingest_date: timestamp (nullable = false)\n",
      "\n"
     ]
    }
   ],
   "source": [
    "customers_emplength_casted.printSchema()"
   ]
  },
  {
   "cell_type": "markdown",
   "id": "5cc2400b",
   "metadata": {},
   "source": [
    "#### 7. we need to replace all the nulls in emp_length column with average of this column"
   ]
  },
  {
   "cell_type": "code",
   "execution_count": 28,
   "id": "a2e78403",
   "metadata": {},
   "outputs": [
    {
     "data": {
      "text/plain": [
       "146903"
      ]
     },
     "execution_count": 28,
     "metadata": {},
     "output_type": "execute_result"
    }
   ],
   "source": [
    "customers_emplength_casted.filter(\"emp_length is null\").count()"
   ]
  },
  {
   "cell_type": "code",
   "execution_count": 29,
   "id": "f7ed79dc",
   "metadata": {},
   "outputs": [],
   "source": [
    "customers_emplength_casted.createOrReplaceTempView(\"customers\")"
   ]
  },
  {
   "cell_type": "code",
   "execution_count": 30,
   "id": "fff098db",
   "metadata": {},
   "outputs": [],
   "source": [
    "avg_emp_length = spark.sql(\"select floor(avg(emp_length)) as avg_emp_length from customers\").collect()"
   ]
  },
  {
   "cell_type": "code",
   "execution_count": 31,
   "id": "e48a7e5a",
   "metadata": {},
   "outputs": [
    {
     "name": "stdout",
     "output_type": "stream",
     "text": [
      "[Row(avg_emp_length=6)]\n"
     ]
    }
   ],
   "source": [
    "print(avg_emp_length)"
   ]
  },
  {
   "cell_type": "code",
   "execution_count": 32,
   "id": "9e905562",
   "metadata": {},
   "outputs": [],
   "source": [
    "avg_emp_duration = avg_emp_length[0][0]"
   ]
  },
  {
   "cell_type": "code",
   "execution_count": 33,
   "id": "56c50949",
   "metadata": {},
   "outputs": [
    {
     "name": "stdout",
     "output_type": "stream",
     "text": [
      "6\n"
     ]
    }
   ],
   "source": [
    "print(avg_emp_duration)"
   ]
  },
  {
   "cell_type": "code",
   "execution_count": 34,
   "id": "f2f25f13",
   "metadata": {},
   "outputs": [],
   "source": [
    "customers_emplength_replaced = customers_emplength_casted.na.fill(avg_emp_duration, subset=['emp_length'])"
   ]
  },
  {
   "cell_type": "code",
   "execution_count": 35,
   "id": "380d3501",
   "metadata": {},
   "outputs": [
    {
     "data": {
      "text/html": [
       "<table border='1'>\n",
       "<tr><th>member_id</th><th>emp_title</th><th>emp_length</th><th>home_ownership</th><th>annual_income</th><th>address_state</th><th>address_zipcode</th><th>address_country</th><th>grade</th><th>sub_grade</th><th>verification_status</th><th>tot_hi_cred_lim</th><th>application_type</th><th>join_annual_income</th><th>verification_status_joint</th><th>ingest_date</th></tr>\n",
       "<tr><td>2dcb219f160d64890...</td><td>Registered Nurse</td><td>10</td><td>MORTGAGE</td><td>80000.0</td><td>TX</td><td>774xx</td><td>USA</td><td>B</td><td>B1</td><td>Source Verified</td><td>281142.0</td><td>Individual</td><td>null</td><td>null</td><td>2024-02-11 00:15:...</td></tr>\n",
       "<tr><td>dcad4689b72372f81...</td><td>registered nurse</td><td>5</td><td>MORTGAGE</td><td>126000.0</td><td>MA</td><td>027xx</td><td>USA</td><td>D</td><td>D1</td><td>Verified</td><td>360331.0</td><td>Individual</td><td>null</td><td>null</td><td>2024-02-11 00:15:...</td></tr>\n",
       "<tr><td>c04b81d4c045e4273...</td><td>Teamster Driver</td><td>10</td><td>RENT</td><td>200000.0</td><td>NJ</td><td>074xx</td><td>USA</td><td>C</td><td>C2</td><td>Source Verified</td><td>40190.0</td><td>Individual</td><td>null</td><td>null</td><td>2024-02-11 00:15:...</td></tr>\n",
       "<tr><td>646124ce14ff72463...</td><td>Customer Service Rep</td><td>10</td><td>RENT</td><td>35000.0</td><td>CA</td><td>916xx</td><td>USA</td><td>B</td><td>B2</td><td>Verified</td><td>86659.0</td><td>Individual</td><td>null</td><td>null</td><td>2024-02-11 00:15:...</td></tr>\n",
       "<tr><td>2af49d3c92e632687...</td><td>Receiving Coordin...</td><td>6</td><td>MORTGAGE</td><td>45000.0</td><td>SC</td><td>291xx</td><td>USA</td><td>D</td><td>D2</td><td>Not Verified</td><td>129573.0</td><td>Individual</td><td>null</td><td>null</td><td>2024-02-11 00:15:...</td></tr>\n",
       "<tr><td>027761fcee352424c...</td><td>General Sales Man...</td><td>2</td><td>MORTGAGE</td><td>120000.0</td><td>CA</td><td>902xx</td><td>USA</td><td>A</td><td>A5</td><td>Verified</td><td>113296.0</td><td>Individual</td><td>null</td><td>null</td><td>2024-02-11 00:15:...</td></tr>\n",
       "<tr><td>b0db9762e193d119f...</td><td>home health aide</td><td>7</td><td>OWN</td><td>24000.0</td><td>NJ</td><td>077xx</td><td>USA</td><td>C</td><td>C4</td><td>Not Verified</td><td>11280.0</td><td>Individual</td><td>null</td><td>null</td><td>2024-02-11 00:15:...</td></tr>\n",
       "<tr><td>f0bc0568272301f29...</td><td>Director</td><td>10</td><td>MORTGAGE</td><td>100000.0</td><td>MI</td><td>496xx</td><td>USA</td><td>B</td><td>B1</td><td>Source Verified</td><td>336983.0</td><td>Individual</td><td>null</td><td>null</td><td>2024-02-11 00:15:...</td></tr>\n",
       "<tr><td>3a070f8a5fe4397cf...</td><td>Sales</td><td>3</td><td>RENT</td><td>40000.0</td><td>NJ</td><td>070xx</td><td>USA</td><td>E</td><td>E1</td><td>Source Verified</td><td>26200.0</td><td>Individual</td><td>null</td><td>null</td><td>2024-02-11 00:15:...</td></tr>\n",
       "<tr><td>ca9bd73de2552366c...</td><td>Teacher</td><td>7</td><td>MORTGAGE</td><td>42000.0</td><td>FL</td><td>342xx</td><td>USA</td><td>C</td><td>C1</td><td>Source Verified</td><td>53064.0</td><td>Individual</td><td>null</td><td>null</td><td>2024-02-11 00:15:...</td></tr>\n",
       "<tr><td>73cf923d15d86d3bf...</td><td>officer</td><td>1</td><td>RENT</td><td>36000.0</td><td>AZ</td><td>850xx</td><td>USA</td><td>D</td><td>D3</td><td>Not Verified</td><td>63327.0</td><td>Individual</td><td>null</td><td>null</td><td>2024-02-11 00:15:...</td></tr>\n",
       "<tr><td>2d9387a5b347b714e...</td><td>IT Manager</td><td>5</td><td>MORTGAGE</td><td>67000.0</td><td>CA</td><td>928xx</td><td>USA</td><td>B</td><td>B4</td><td>Verified</td><td>106320.0</td><td>Individual</td><td>null</td><td>null</td><td>2024-02-11 00:15:...</td></tr>\n",
       "<tr><td>77831c8ddce0f2a23...</td><td>Architect</td><td>7</td><td>RENT</td><td>52500.0</td><td>IL</td><td>601xx</td><td>USA</td><td>D</td><td>D5</td><td>Source Verified</td><td>87912.0</td><td>Individual</td><td>null</td><td>null</td><td>2024-02-11 00:15:...</td></tr>\n",
       "<tr><td>13c79d095c203e801...</td><td>Bus Operator</td><td>7</td><td>OWN</td><td>55000.0</td><td>FL</td><td>331xx</td><td>USA</td><td>C</td><td>C2</td><td>Source Verified</td><td>31635.0</td><td>Individual</td><td>null</td><td>null</td><td>2024-02-11 00:15:...</td></tr>\n",
       "<tr><td>2f82105f15a28994f...</td><td>waitress/food ser...</td><td>10</td><td>MORTGAGE</td><td>45000.0</td><td>PA</td><td>190xx</td><td>USA</td><td>C</td><td>C1</td><td>Source Verified</td><td>126875.0</td><td>Individual</td><td>null</td><td>null</td><td>2024-02-11 00:15:...</td></tr>\n",
       "<tr><td>29ac38b7bc13ff67a...</td><td>Owner</td><td>8</td><td>RENT</td><td>42000.0</td><td>CA</td><td>923xx</td><td>USA</td><td>F</td><td>F5</td><td>Verified</td><td>32034.0</td><td>Individual</td><td>null</td><td>null</td><td>2024-02-11 00:15:...</td></tr>\n",
       "<tr><td>39d634af8063c8293...</td><td>Talent Acquisitio...</td><td>1</td><td>MORTGAGE</td><td>110000.0</td><td>NC</td><td>281xx</td><td>USA</td><td>D</td><td>D3</td><td>Source Verified</td><td>69250.0</td><td>Individual</td><td>null</td><td>null</td><td>2024-02-11 00:15:...</td></tr>\n",
       "<tr><td>9614f3a48056b7bee...</td><td>Customer Service ...</td><td>1</td><td>RENT</td><td>24000.0</td><td>TX</td><td>760xx</td><td>USA</td><td>B</td><td>B3</td><td>Source Verified</td><td>63278.0</td><td>Individual</td><td>null</td><td>null</td><td>2024-02-11 00:15:...</td></tr>\n",
       "<tr><td>ed50b1a8372343034...</td><td>Senior Software E...</td><td>8</td><td>MORTGAGE</td><td>77000.0</td><td>NY</td><td>145xx</td><td>USA</td><td>A</td><td>A5</td><td>Source Verified</td><td>46590.0</td><td>Individual</td><td>null</td><td>null</td><td>2024-02-11 00:15:...</td></tr>\n",
       "<tr><td>f4fe52a2ecea23067...</td><td>Business Analyst</td><td>10</td><td>OWN</td><td>60000.0</td><td>AZ</td><td>850xx</td><td>USA</td><td>B</td><td>B2</td><td>Verified</td><td>253400.0</td><td>Individual</td><td>null</td><td>null</td><td>2024-02-11 00:15:...</td></tr>\n",
       "</table>\n",
       "only showing top 20 rows\n"
      ],
      "text/plain": [
       "+--------------------+--------------------+----------+--------------+-------------+-------------+---------------+---------------+-----+---------+-------------------+---------------+----------------+------------------+-------------------------+--------------------+\n",
       "|           member_id|           emp_title|emp_length|home_ownership|annual_income|address_state|address_zipcode|address_country|grade|sub_grade|verification_status|tot_hi_cred_lim|application_type|join_annual_income|verification_status_joint|         ingest_date|\n",
       "+--------------------+--------------------+----------+--------------+-------------+-------------+---------------+---------------+-----+---------+-------------------+---------------+----------------+------------------+-------------------------+--------------------+\n",
       "|667515ec51a259f01...|Public Works Supe...|        10|      MORTGAGE|      95000.0|           CA|          959xx|            USA|    B|       B1|       Not Verified|       245300.0|      Individual|              null|                     null|2024-02-11 00:15:...|\n",
       "|bf310134bf4932d6b...|Andministrative C...|        10|      MORTGAGE|      60000.0|           TX|          770xx|            USA|    B|       B2|    Source Verified|       122537.0|      Individual|              null|                     null|2024-02-11 00:15:...|\n",
       "|99ce7d2baf2b72157...|   Safety Specialist|         1|          RENT|      76000.0|           CA|          924xx|            USA|    B|       B1|       Not Verified|        77720.0|      Individual|              null|                     null|2024-02-11 00:15:...|\n",
       "|dbc5686b3d810aa43...|               stock|         9|          RENT|      55000.0|           NY|          114xx|            USA|    D|       D1|    Source Verified|         6800.0|      Individual|              null|                     null|2024-02-11 00:15:...|\n",
       "|fbdb68bc754baf39d...|              Driver|        10|      MORTGAGE|     220000.0|           CO|          800xx|            USA|    C|       C2|    Source Verified|       346560.0|      Individual|              null|                     null|2024-02-11 00:15:...|\n",
       "|59baa9f2266702dcf...|     Account Tech II|        10|      MORTGAGE|      42000.0|           TN|          370xx|            USA|    C|       C4|    Source Verified|       116344.0|      Individual|              null|                     null|2024-02-11 00:15:...|\n",
       "|a230e977a7496431e...|                null|         6|          RENT|      45000.0|           CA|          956xx|            USA|    B|       B4|    Source Verified|        47194.0|      Individual|              null|                     null|2024-02-11 00:15:...|\n",
       "|bdadd04565791d00c...|        bus operator|         7|          RENT|      80000.0|           NY|          114xx|            USA|    C|       C4|           Verified|        36222.0|      Individual|              null|                     null|2024-02-11 00:15:...|\n",
       "|c8e48b654fa746b9e...|Marketing Ops Sen...|         2|          RENT|     105000.0|           CA|          926xx|            USA|    C|       C1|       Not Verified|        71681.0|      Individual|              null|                     null|2024-02-11 00:15:...|\n",
       "|c08d3a4c324213c7b...|          Dispatcher|        10|      MORTGAGE|      73000.0|           MA|          014xx|            USA|    B|       B1|       Not Verified|       236406.0|      Individual|              null|                     null|2024-02-11 00:15:...|\n",
       "|13938c769635d82f0...|        chef/manager|         7|          RENT|      75000.0|           MD|          207xx|            USA|    B|       B1|       Not Verified|        82200.0|      Individual|              null|                     null|2024-02-11 00:15:...|\n",
       "|8a360387b4ed1c828...|             Teacher|         3|          RENT|      50000.0|           CO|          802xx|            USA|    D|       D5|       Not Verified|       111558.0|      Individual|              null|                     null|2024-02-11 00:15:...|\n",
       "|f9f5b6257283531b9...|   Account Executive|         1|          RENT|      70000.0|           TX|          761xx|            USA|    C|       C1|    Source Verified|        15600.0|      Individual|              null|                     null|2024-02-11 00:15:...|\n",
       "|9f2aa98f60fb82142...|Shipping and Rece...|        10|          RENT|      52000.0|           WI|          540xx|            USA|    A|       A4|       Not Verified|        92453.0|      Individual|              null|                     null|2024-02-11 00:15:...|\n",
       "|3ed44099d32072872...|           Tech Lead|         4|      MORTGAGE|      83000.0|           FL|          342xx|            USA|    F|       F1|       Not Verified|        65551.0|      Individual|              null|                     null|2024-02-11 00:15:...|\n",
       "|fda47b14c385c4579...|             Manager|         2|      MORTGAGE|      75000.0|           NH|          038xx|            USA|    B|       B2|    Source Verified|       155429.0|      Individual|              null|                     null|2024-02-11 00:15:...|\n",
       "|006f0dffd74575b4b...|    kitchen designer|        10|           OWN|      45000.0|           VA|          240xx|            USA|    A|       A3|       Not Verified|       132731.0|      Individual|              null|                     null|2024-02-11 00:15:...|\n",
       "|1eee85b7b4f8f205a...|              Trader|         3|          RENT|     115000.0|           CA|          945xx|            USA|    B|       B2|    Source Verified|       127200.0|      Individual|              null|                     null|2024-02-11 00:15:...|\n",
       "|67e7eb19d36353ff1...|   Massage Therapist|         4|          RENT|      22000.0|           CA|          956xx|            USA|    C|       C4|    Source Verified|        27200.0|      Individual|              null|                     null|2024-02-11 00:15:...|\n",
       "|6fa828fda960962c4...|Senior Software E...|         3|      MORTGAGE|     137000.0|           MA|          018xx|            USA|    B|       B1|    Source Verified|       382475.0|      Individual|              null|                     null|2024-02-11 00:15:...|\n",
       "+--------------------+--------------------+----------+--------------+-------------+-------------+---------------+---------------+-----+---------+-------------------+---------------+----------------+------------------+-------------------------+--------------------+\n",
       "only showing top 20 rows"
      ]
     },
     "execution_count": 35,
     "metadata": {},
     "output_type": "execute_result"
    }
   ],
   "source": [
    "customers_emplength_replaced"
   ]
  },
  {
   "cell_type": "code",
   "execution_count": 36,
   "id": "f0d4712e",
   "metadata": {},
   "outputs": [
    {
     "data": {
      "text/plain": [
       "0"
      ]
     },
     "execution_count": 36,
     "metadata": {},
     "output_type": "execute_result"
    }
   ],
   "source": [
    "customers_emplength_replaced.filter(\"emp_length is null\").count()"
   ]
  },
  {
   "cell_type": "markdown",
   "id": "da140675",
   "metadata": {},
   "source": [
    "#### 8. Clean the address_state(it should be 2 characters only),replace all others with NA"
   ]
  },
  {
   "cell_type": "code",
   "execution_count": 37,
   "id": "48b3ae50",
   "metadata": {},
   "outputs": [],
   "source": [
    "customers_emplength_replaced.createOrReplaceTempView(\"customers\")"
   ]
  },
  {
   "cell_type": "code",
   "execution_count": 38,
   "id": "78f693b9",
   "metadata": {},
   "outputs": [
    {
     "data": {
      "text/html": [
       "<table border='1'>\n",
       "<tr><th>address_state</th></tr>\n",
       "<tr><td>Helping Kenya&#x27;s D...</td></tr>\n",
       "<tr><td>175 (total projec...</td></tr>\n",
       "<tr><td>223xx</td></tr>\n",
       "<tr><td>AZ</td></tr>\n",
       "<tr><td>SC</td></tr>\n",
       "<tr><td>so Plan &quot;&quot;C&quot;&quot; is ...</td></tr>\n",
       "<tr><td>I am 56 yrs. old ...</td></tr>\n",
       "<tr><td>financially I mad...</td></tr>\n",
       "<tr><td>but no one will l...</td></tr>\n",
       "<tr><td>LA</td></tr>\n",
       "<tr><td>etc.  First</td></tr>\n",
       "<tr><td>MN</td></tr>\n",
       "<tr><td>yet Capital One n...</td></tr>\n",
       "<tr><td>850xx</td></tr>\n",
       "<tr><td>499xx</td></tr>\n",
       "<tr><td>Advocate business...</td></tr>\n",
       "<tr><td>and MBA&#x27;s are ove...</td></tr>\n",
       "<tr><td>Eliminating Credi...</td></tr>\n",
       "<tr><td>951xx</td></tr>\n",
       "<tr><td>I the credit card...</td></tr>\n",
       "</table>\n",
       "only showing top 20 rows\n"
      ],
      "text/plain": [
       "+--------------------+\n",
       "|       address_state|\n",
       "+--------------------+\n",
       "|Helping Kenya's D...|\n",
       "|175 (total projec...|\n",
       "|               223xx|\n",
       "|                  AZ|\n",
       "|                  SC|\n",
       "|so Plan \"\"C\"\" is ...|\n",
       "|I am 56 yrs. old ...|\n",
       "|financially I mad...|\n",
       "|but no one will l...|\n",
       "|                  LA|\n",
       "|         etc.  First|\n",
       "|                  MN|\n",
       "|yet Capital One n...|\n",
       "|               499xx|\n",
       "|               850xx|\n",
       "|Eliminating Credi...|\n",
       "|Advocate business...|\n",
       "|and MBA's are ove...|\n",
       "|               662xx|\n",
       "|               951xx|\n",
       "+--------------------+\n",
       "only showing top 20 rows"
      ]
     },
     "execution_count": 38,
     "metadata": {},
     "output_type": "execute_result"
    }
   ],
   "source": [
    "spark.sql(\"select distinct(address_state) from customers\")"
   ]
  },
  {
   "cell_type": "code",
   "execution_count": 39,
   "id": "bf7626a0",
   "metadata": {},
   "outputs": [
    {
     "data": {
      "text/html": [
       "<table border='1'>\n",
       "<tr><th>count(address_state)</th></tr>\n",
       "<tr><td>254</td></tr>\n",
       "</table>\n"
      ],
      "text/plain": [
       "+--------------------+\n",
       "|count(address_state)|\n",
       "+--------------------+\n",
       "|                 254|\n",
       "+--------------------+"
      ]
     },
     "execution_count": 39,
     "metadata": {},
     "output_type": "execute_result"
    }
   ],
   "source": [
    "spark.sql(\"select count(address_state) from customers where length(address_state)>2\")"
   ]
  },
  {
   "cell_type": "code",
   "execution_count": 40,
   "id": "fc5febd4",
   "metadata": {},
   "outputs": [],
   "source": [
    "from pyspark.sql.functions import when, col, length"
   ]
  },
  {
   "cell_type": "code",
   "execution_count": 41,
   "id": "8c1beb12",
   "metadata": {},
   "outputs": [],
   "source": [
    "customers_state_cleaned = customers_emplength_replaced.withColumn(\n",
    "    \"address_state\",\n",
    "    when(length(col(\"address_state\"))> 2, \"NA\").otherwise(col(\"address_state\"))\n",
    ")"
   ]
  },
  {
   "cell_type": "code",
   "execution_count": 42,
   "id": "59ad0a7d",
   "metadata": {},
   "outputs": [
    {
     "data": {
      "text/html": [
       "<table border='1'>\n",
       "<tr><th>member_id</th><th>emp_title</th><th>emp_length</th><th>home_ownership</th><th>annual_income</th><th>address_state</th><th>address_zipcode</th><th>address_country</th><th>grade</th><th>sub_grade</th><th>verification_status</th><th>tot_hi_cred_lim</th><th>application_type</th><th>join_annual_income</th><th>verification_status_joint</th><th>ingest_date</th></tr>\n",
       "<tr><td>7986fdf230717025a...</td><td>Family Support Wo...</td><td>1</td><td>RENT</td><td>32000.0</td><td>KY</td><td>421xx</td><td>USA</td><td>B</td><td>B1</td><td>Source Verified</td><td>57322.0</td><td>Individual</td><td>null</td><td>null</td><td>2024-02-11 00:15:...</td></tr>\n",
       "<tr><td>1ec06e28c1b24ee32...</td><td>Teacher</td><td>7</td><td>RENT</td><td>64000.0</td><td>CA</td><td>952xx</td><td>USA</td><td>D</td><td>D3</td><td>Source Verified</td><td>16300.0</td><td>Individual</td><td>null</td><td>null</td><td>2024-02-11 00:15:...</td></tr>\n",
       "<tr><td>3426f48d03064b3b9...</td><td>CEO</td><td>10</td><td>OWN</td><td>110000.0</td><td>MN</td><td>551xx</td><td>USA</td><td>B</td><td>B5</td><td>Not Verified</td><td>387565.0</td><td>Joint App</td><td>170000.0</td><td>Not Verified</td><td>2024-02-11 00:15:...</td></tr>\n",
       "<tr><td>7883d38ce92329af1...</td><td>Wellness Nurse</td><td>6</td><td>MORTGAGE</td><td>60000.0</td><td>CA</td><td>923xx</td><td>USA</td><td>A</td><td>A1</td><td>Source Verified</td><td>388900.0</td><td>Individual</td><td>null</td><td>null</td><td>2024-02-11 00:15:...</td></tr>\n",
       "<tr><td>77689cc8225a60f1e...</td><td>Medical doctor</td><td>3</td><td>MORTGAGE</td><td>110000.0</td><td>NV</td><td>891xx</td><td>USA</td><td>B</td><td>B4</td><td>Source Verified</td><td>565401.0</td><td>Individual</td><td>null</td><td>null</td><td>2024-02-11 00:15:...</td></tr>\n",
       "<tr><td>504c4dd65674ed6ce...</td><td>Director of Techn...</td><td>5</td><td>MORTGAGE</td><td>136500.0</td><td>TX</td><td>751xx</td><td>USA</td><td>D</td><td>D3</td><td>Not Verified</td><td>187300.0</td><td>Individual</td><td>null</td><td>null</td><td>2024-02-11 00:15:...</td></tr>\n",
       "<tr><td>a4e19e56298e28e0b...</td><td>Vice President</td><td>10</td><td>MORTGAGE</td><td>165000.0</td><td>WA</td><td>980xx</td><td>USA</td><td>A</td><td>A1</td><td>Verified</td><td>950663.0</td><td>Individual</td><td>null</td><td>null</td><td>2024-02-11 00:15:...</td></tr>\n",
       "<tr><td>2e9901edcadab0a32...</td><td>police officer</td><td>6</td><td>RENT</td><td>100000.0</td><td>NY</td><td>117xx</td><td>USA</td><td>B</td><td>B2</td><td>Not Verified</td><td>41797.0</td><td>Individual</td><td>null</td><td>null</td><td>2024-02-11 00:15:...</td></tr>\n",
       "<tr><td>5169bacc7091e2385...</td><td>Driver</td><td>1</td><td>MORTGAGE</td><td>60000.0</td><td>MO</td><td>657xx</td><td>USA</td><td>D</td><td>D5</td><td>Not Verified</td><td>143537.0</td><td>Joint App</td><td>104200.0</td><td>Not Verified</td><td>2024-02-11 00:15:...</td></tr>\n",
       "<tr><td>2849046e8825b583f...</td><td>Lab tech</td><td>10</td><td>OWN</td><td>90000.0</td><td>MD</td><td>209xx</td><td>USA</td><td>A</td><td>A4</td><td>Source Verified</td><td>66800.0</td><td>Individual</td><td>null</td><td>null</td><td>2024-02-11 00:15:...</td></tr>\n",
       "<tr><td>15617929578bac8f7...</td><td>Crane mechanic</td><td>10</td><td>MORTGAGE</td><td>58000.0</td><td>MD</td><td>219xx</td><td>USA</td><td>A</td><td>A5</td><td>Not Verified</td><td>212518.0</td><td>Individual</td><td>null</td><td>null</td><td>2024-02-11 00:15:...</td></tr>\n",
       "<tr><td>d7b8314fcb06c3372...</td><td>Vice President</td><td>9</td><td>MORTGAGE</td><td>100000.0</td><td>NY</td><td>114xx</td><td>USA</td><td>B</td><td>B4</td><td>Not Verified</td><td>191288.0</td><td>Individual</td><td>null</td><td>null</td><td>2024-02-11 00:15:...</td></tr>\n",
       "<tr><td>ab0464df278debfbd...</td><td>CET Electrician</td><td>5</td><td>OWN</td><td>52000.0</td><td>NC</td><td>280xx</td><td>USA</td><td>A</td><td>A2</td><td>Source Verified</td><td>18200.0</td><td>Individual</td><td>null</td><td>null</td><td>2024-02-11 00:15:...</td></tr>\n",
       "<tr><td>b6cbe2f2705347a4a...</td><td>General Manager</td><td>10</td><td>OWN</td><td>48640.0</td><td>FL</td><td>320xx</td><td>USA</td><td>A</td><td>A4</td><td>Not Verified</td><td>77737.0</td><td>Individual</td><td>null</td><td>null</td><td>2024-02-11 00:15:...</td></tr>\n",
       "<tr><td>8e9e6109426d8468b...</td><td>null</td><td>6</td><td>OWN</td><td>0.0</td><td>SC</td><td>293xx</td><td>USA</td><td>A</td><td>A1</td><td>Verified</td><td>153935.0</td><td>Joint App</td><td>50000.0</td><td>null</td><td>2024-02-11 00:15:...</td></tr>\n",
       "<tr><td>fa8f80efc6b8856c9...</td><td>Receptionist</td><td>1</td><td>RENT</td><td>24000.0</td><td>NY</td><td>113xx</td><td>USA</td><td>B</td><td>B4</td><td>Source Verified</td><td>16906.0</td><td>Individual</td><td>null</td><td>null</td><td>2024-02-11 00:15:...</td></tr>\n",
       "<tr><td>061da479bdece84b3...</td><td>Mortgage loan off...</td><td>9</td><td>MORTGAGE</td><td>89000.0</td><td>TX</td><td>782xx</td><td>USA</td><td>C</td><td>C4</td><td>Not Verified</td><td>394234.0</td><td>Joint App</td><td>130500.0</td><td>Not Verified</td><td>2024-02-11 00:15:...</td></tr>\n",
       "<tr><td>d101380a600fb4832...</td><td>Operations Manager</td><td>1</td><td>OWN</td><td>90000.0</td><td>VA</td><td>233xx</td><td>USA</td><td>A</td><td>A1</td><td>Verified</td><td>392432.0</td><td>Individual</td><td>null</td><td>null</td><td>2024-02-11 00:15:...</td></tr>\n",
       "<tr><td>2286ff0d42067b05c...</td><td>owner</td><td>10</td><td>MORTGAGE</td><td>74000.0</td><td>CT</td><td>060xx</td><td>USA</td><td>C</td><td>C4</td><td>Not Verified</td><td>286537.0</td><td>Individual</td><td>null</td><td>null</td><td>2024-02-11 00:15:...</td></tr>\n",
       "<tr><td>4d0d5313f666dae8a...</td><td>Route Supervisor</td><td>1</td><td>RENT</td><td>61200.0</td><td>TX</td><td>773xx</td><td>USA</td><td>C</td><td>C1</td><td>Source Verified</td><td>192169.0</td><td>Individual</td><td>null</td><td>null</td><td>2024-02-11 00:15:...</td></tr>\n",
       "</table>\n",
       "only showing top 20 rows\n"
      ],
      "text/plain": [
       "+--------------------+--------------------+----------+--------------+-------------+-------------+---------------+---------------+-----+---------+-------------------+---------------+----------------+------------------+-------------------------+--------------------+\n",
       "|           member_id|           emp_title|emp_length|home_ownership|annual_income|address_state|address_zipcode|address_country|grade|sub_grade|verification_status|tot_hi_cred_lim|application_type|join_annual_income|verification_status_joint|         ingest_date|\n",
       "+--------------------+--------------------+----------+--------------+-------------+-------------+---------------+---------------+-----+---------+-------------------+---------------+----------------+------------------+-------------------------+--------------------+\n",
       "|f5e626d3e730bf68b...|Facility Security...|         6|      MORTGAGE|      86000.0|           NM|          871xx|            USA|    D|       D4|           Verified|       195810.0|      Individual|              null|                     null|2024-02-11 00:15:...|\n",
       "|692a218234b611559...|       IT Specialist|         8|      MORTGAGE|      75000.0|           WV|          258xx|            USA|    A|       A3|    Source Verified|        90111.0|      Individual|              null|                     null|2024-02-11 00:15:...|\n",
       "|7ae9904db1d08f010...|          Supervisor|        10|          RENT|      42000.0|           CA|          900xx|            USA|    D|       D5|           Verified|        67169.0|      Individual|              null|                     null|2024-02-11 00:15:...|\n",
       "|996470be41da983b6...|               Owner|        10|      MORTGAGE|      30000.0|           FL|          327xx|            USA|    A|       A2|       Not Verified|       236112.0|       Joint App|          135000.0|             Not Verified|2024-02-11 00:15:...|\n",
       "|24ec7ac302f05d060...|     Finance Manager|         2|      MORTGAGE|      98000.0|           CA|          920xx|            USA|    C|       C2|           Verified|       452655.0|      Individual|              null|                     null|2024-02-11 00:15:...|\n",
       "|2ebb7070ad44a4499...|       Payroll Clerk|         6|          RENT|      45000.0|           NJ|          073xx|            USA|    B|       B3|    Source Verified|        85427.0|      Individual|              null|                     null|2024-02-11 00:15:...|\n",
       "|4b3d97e149b3c9951...|                null|         6|           OWN|      53000.0|           IL|          628xx|            USA|    B|       B1|       Not Verified|        75695.0|      Individual|              null|                     null|2024-02-11 00:15:...|\n",
       "|05373a4f79d3cf0c0...|    Dental Hygienist|         5|      MORTGAGE|      65001.0|           MN|          553xx|            USA|    B|       B1|    Source Verified|       366301.0|      Individual|              null|                     null|2024-02-11 00:15:...|\n",
       "|ae26a0ff8ddea0a93...|             Teacher|         4|      MORTGAGE|      44500.0|           FL|          342xx|            USA|    C|       C3|           Verified|        27700.0|      Individual|              null|                     null|2024-02-11 00:15:...|\n",
       "|3c248b2866c7d403d...|    Health Physicist|         2|      MORTGAGE|     100880.0|           IN|          476xx|            USA|    C|       C1|           Verified|       131421.0|      Individual|              null|                     null|2024-02-11 00:15:...|\n",
       "|247e393be10ac816f...|    MATERIAL HANDLER|         2|          RENT|      42000.0|           CA|          921xx|            USA|    C|       C1|       Not Verified|        40607.0|      Individual|              null|                     null|2024-02-11 00:15:...|\n",
       "|900bdc89e4c34a0aa...|Loss Prevention M...|        10|      MORTGAGE|      86000.0|           KS|          660xx|            USA|    B|       B4|    Source Verified|       233138.0|      Individual|              null|                     null|2024-02-11 00:15:...|\n",
       "|7c5e91c7703a31634...|           President|        10|           OWN|     120000.0|           NY|          107xx|            USA|    A|       A1|       Not Verified|       109300.0|      Individual|              null|                     null|2024-02-11 00:15:...|\n",
       "|659af6f2ae9bcf5b9...|Biodiesel Technician|         6|      MORTGAGE|      65000.0|           MO|          641xx|            USA|    D|       D4|           Verified|        66684.0|      Individual|              null|                     null|2024-02-11 00:15:...|\n",
       "|0f787369b36918d19...|     Loan Consultant|        10|      MORTGAGE|     450000.0|           CA|          919xx|            USA|    B|       B3|           Verified|       866223.0|      Individual|              null|                     null|2024-02-11 00:15:...|\n",
       "|c242e378774a5e78d...|                  RN|         1|      MORTGAGE|      97000.0|           OK|          731xx|            USA|    B|       B2|    Source Verified|       196357.0|      Individual|              null|                     null|2024-02-11 00:15:...|\n",
       "|c2b33d64acb9bf768...|              Pastor|         1|      MORTGAGE|      85000.0|           NC|          285xx|            USA|    B|       B5|    Source Verified|       543226.0|      Individual|              null|                     null|2024-02-11 00:15:...|\n",
       "|d18004365a749c445...|             teacher|         6|          RENT|      57534.0|           MD|          210xx|            USA|    B|       B2|       Not Verified|       109886.0|       Joint App|          100534.0|             Not Verified|2024-02-11 00:15:...|\n",
       "|de58259995fb941a7...|     VP, Real Estate|         2|      MORTGAGE|     220000.0|           NC|          280xx|            USA|    C|       C1|    Source Verified|       185791.0|      Individual|              null|                     null|2024-02-11 00:15:...|\n",
       "|6c3da8440ca818336...|           Counlsler|         6|           OWN|      65000.0|           PA|          150xx|            USA|    C|       C4|       Not Verified|       172801.0|      Individual|              null|                     null|2024-02-11 00:15:...|\n",
       "+--------------------+--------------------+----------+--------------+-------------+-------------+---------------+---------------+-----+---------+-------------------+---------------+----------------+------------------+-------------------------+--------------------+\n",
       "only showing top 20 rows"
      ]
     },
     "execution_count": 42,
     "metadata": {},
     "output_type": "execute_result"
    }
   ],
   "source": [
    "customers_state_cleaned"
   ]
  },
  {
   "cell_type": "code",
   "execution_count": 43,
   "id": "b9daf936",
   "metadata": {},
   "outputs": [
    {
     "data": {
      "text/html": [
       "<table border='1'>\n",
       "<tr><th>address_state</th></tr>\n",
       "<tr><td>AZ</td></tr>\n",
       "<tr><td>SC</td></tr>\n",
       "<tr><td>LA</td></tr>\n",
       "<tr><td>MN</td></tr>\n",
       "<tr><td>NJ</td></tr>\n",
       "<tr><td>DC</td></tr>\n",
       "<tr><td>OR</td></tr>\n",
       "<tr><td>NA</td></tr>\n",
       "<tr><td>VA</td></tr>\n",
       "<tr><td>null</td></tr>\n",
       "<tr><td>RI</td></tr>\n",
       "<tr><td>KY</td></tr>\n",
       "<tr><td>WY</td></tr>\n",
       "<tr><td>NH</td></tr>\n",
       "<tr><td>MI</td></tr>\n",
       "<tr><td>NV</td></tr>\n",
       "<tr><td>WI</td></tr>\n",
       "<tr><td>ID</td></tr>\n",
       "<tr><td>CA</td></tr>\n",
       "<tr><td>NE</td></tr>\n",
       "</table>\n",
       "only showing top 20 rows\n"
      ],
      "text/plain": [
       "+-------------+\n",
       "|address_state|\n",
       "+-------------+\n",
       "|           AZ|\n",
       "|           SC|\n",
       "|           LA|\n",
       "|           MN|\n",
       "|           NJ|\n",
       "|           DC|\n",
       "|           OR|\n",
       "|           NA|\n",
       "|           VA|\n",
       "|         null|\n",
       "|           RI|\n",
       "|           KY|\n",
       "|           WY|\n",
       "|           NH|\n",
       "|           MI|\n",
       "|           NV|\n",
       "|           WI|\n",
       "|           ID|\n",
       "|           CA|\n",
       "|           NE|\n",
       "+-------------+\n",
       "only showing top 20 rows"
      ]
     },
     "execution_count": 43,
     "metadata": {},
     "output_type": "execute_result"
    }
   ],
   "source": [
    "customers_state_cleaned.select(\"address_state\").distinct()"
   ]
  },
  {
   "cell_type": "code",
   "execution_count": 45,
   "id": "b61f28c3",
   "metadata": {},
   "outputs": [],
   "source": [
    "customers_state_cleaned.write \\\n",
    ".format(\"parquet\") \\\n",
    ".mode(\"overwrite\") \\\n",
    ".option(\"path\", \"/user/itv008041/lendingclubproject/raw/cleaned/customers_parquet\") \\\n",
    ".save()"
   ]
  },
  {
   "cell_type": "code",
   "execution_count": 46,
   "id": "2f6251e9",
   "metadata": {},
   "outputs": [],
   "source": [
    "customers_state_cleaned.write \\\n",
    ".option(\"header\", True) \\\n",
    ".format(\"csv\") \\\n",
    ".mode(\"overwrite\") \\\n",
    ".option(\"path\", \"/user/itv008041/lendingclubproject/raw/cleaned/customers_csv\") \\\n",
    ".save()"
   ]
  },
  {
   "cell_type": "code",
   "execution_count": null,
   "id": "d97de322",
   "metadata": {},
   "outputs": [],
   "source": [
    "\n"
   ]
  }
 ],
 "metadata": {
  "kernelspec": {
   "display_name": "Python 3",
   "language": "python",
   "name": "python3"
  },
  "language_info": {
   "codemirror_mode": {
    "name": "ipython",
    "version": 3
   },
   "file_extension": ".py",
   "mimetype": "text/x-python",
   "name": "python",
   "nbconvert_exporter": "python",
   "pygments_lexer": "ipython3",
   "version": "3.8.8"
  }
 },
 "nbformat": 4,
 "nbformat_minor": 5
}
